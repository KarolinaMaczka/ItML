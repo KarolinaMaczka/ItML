{
 "cells": [
  {
   "cell_type": "code",
   "execution_count": 3,
   "id": "134a34ca",
   "metadata": {},
   "outputs": [],
   "source": [
    "import pandas as pd\n",
    "from sklearn.model_selection import train_test_split\n",
    "import matplotlib.pyplot as plt\n",
    "from sklearn.feature_extraction.text import TfidfVectorizer\n",
    "from nltk.tokenize import sent_tokenize, word_tokenize"
   ]
  },
  {
   "cell_type": "code",
   "execution_count": 44,
   "id": "9aec9ea7",
   "metadata": {},
   "outputs": [],
   "source": [
    "df=pd.read_csv('PreProcessedData.csv', header=0, sep=',')"
   ]
  },
  {
   "cell_type": "code",
   "execution_count": 24,
   "id": "8fd54ecb",
   "metadata": {},
   "outputs": [
    {
     "data": {
      "text/html": [
       "<div>\n",
       "<style scoped>\n",
       "    .dataframe tbody tr th:only-of-type {\n",
       "        vertical-align: middle;\n",
       "    }\n",
       "\n",
       "    .dataframe tbody tr th {\n",
       "        vertical-align: top;\n",
       "    }\n",
       "\n",
       "    .dataframe thead th {\n",
       "        text-align: right;\n",
       "    }\n",
       "</style>\n",
       "<table border=\"1\" class=\"dataframe\">\n",
       "  <thead>\n",
       "    <tr style=\"text-align: right;\">\n",
       "      <th></th>\n",
       "      <th>Unnamed: 0</th>\n",
       "      <th>title</th>\n",
       "      <th>text</th>\n",
       "      <th>Ground Label</th>\n",
       "    </tr>\n",
       "  </thead>\n",
       "  <tbody>\n",
       "    <tr>\n",
       "      <th>0</th>\n",
       "      <td>0</td>\n",
       "      <td>Ann Coulter Make Believes She Has ‘Gay Friend...</td>\n",
       "      <td>It s hard to believe, but Donald Trump does ha...</td>\n",
       "      <td>fake</td>\n",
       "    </tr>\n",
       "    <tr>\n",
       "      <th>1</th>\n",
       "      <td>1</td>\n",
       "      <td>Rating: Moody‘s verbessert Ausblick für Russla...</td>\n",
       "      <td>bankensektor Der russische Staat werde die Ban...</td>\n",
       "      <td>fake</td>\n",
       "    </tr>\n",
       "    <tr>\n",
       "      <th>2</th>\n",
       "      <td>2</td>\n",
       "      <td>CAN WE ADD DIRTY MONEY ‘LAUNDERING’ To The Oba...</td>\n",
       "      <td>A member of the House Intelligence Committee i...</td>\n",
       "      <td>fake</td>\n",
       "    </tr>\n",
       "    <tr>\n",
       "      <th>3</th>\n",
       "      <td>3</td>\n",
       "      <td>Republicans on Obamacare repeal: 'We're going ...</td>\n",
       "      <td>WASHINGTON (Reuters) - House of Representative...</td>\n",
       "      <td>true</td>\n",
       "    </tr>\n",
       "    <tr>\n",
       "      <th>4</th>\n",
       "      <td>4</td>\n",
       "      <td>Trump, on possible DACA deal, says border wall...</td>\n",
       "      <td>WASHINGTON (Reuters) - U.S. President Donald T...</td>\n",
       "      <td>true</td>\n",
       "    </tr>\n",
       "  </tbody>\n",
       "</table>\n",
       "</div>"
      ],
      "text/plain": [
       "   Unnamed: 0                                              title  \\\n",
       "0           0   Ann Coulter Make Believes She Has ‘Gay Friend...   \n",
       "1           1  Rating: Moody‘s verbessert Ausblick für Russla...   \n",
       "2           2  CAN WE ADD DIRTY MONEY ‘LAUNDERING’ To The Oba...   \n",
       "3           3  Republicans on Obamacare repeal: 'We're going ...   \n",
       "4           4  Trump, on possible DACA deal, says border wall...   \n",
       "\n",
       "                                                text Ground Label  \n",
       "0  It s hard to believe, but Donald Trump does ha...         fake  \n",
       "1  bankensektor Der russische Staat werde die Ban...         fake  \n",
       "2  A member of the House Intelligence Committee i...         fake  \n",
       "3  WASHINGTON (Reuters) - House of Representative...         true  \n",
       "4  WASHINGTON (Reuters) - U.S. President Donald T...         true  "
      ]
     },
     "execution_count": 24,
     "metadata": {},
     "output_type": "execute_result"
    }
   ],
   "source": [
    "df.head()"
   ]
  },
  {
   "cell_type": "code",
   "execution_count": 25,
   "id": "91d0d0eb",
   "metadata": {},
   "outputs": [
    {
     "name": "stdout",
     "output_type": "stream",
     "text": [
      "<class 'pandas.core.frame.DataFrame'>\n",
      "RangeIndex: 69045 entries, 0 to 69044\n",
      "Data columns (total 4 columns):\n",
      " #   Column        Non-Null Count  Dtype \n",
      "---  ------        --------------  ----- \n",
      " 0   Unnamed: 0    69045 non-null  int64 \n",
      " 1   title         68365 non-null  object\n",
      " 2   text          68978 non-null  object\n",
      " 3   Ground Label  69045 non-null  object\n",
      "dtypes: int64(1), object(3)\n",
      "memory usage: 2.1+ MB\n",
      "None\n"
     ]
    }
   ],
   "source": [
    "print(df.info())"
   ]
  },
  {
   "cell_type": "code",
   "execution_count": 26,
   "id": "cab11ae1",
   "metadata": {},
   "outputs": [
    {
     "name": "stdout",
     "output_type": "stream",
     "text": [
      "<class 'pandas.core.frame.DataFrame'>\n",
      "Int64Index: 68298 entries, 0 to 69044\n",
      "Data columns (total 4 columns):\n",
      " #   Column        Non-Null Count  Dtype \n",
      "---  ------        --------------  ----- \n",
      " 0   Unnamed: 0    68298 non-null  int64 \n",
      " 1   title         68298 non-null  object\n",
      " 2   text          68298 non-null  object\n",
      " 3   Ground Label  68298 non-null  object\n",
      "dtypes: int64(1), object(3)\n",
      "memory usage: 2.6+ MB\n",
      "None\n"
     ]
    }
   ],
   "source": [
    "df=df.dropna(subset=['title', 'text', 'Ground Label'])\n",
    "print(df.info())"
   ]
  },
  {
   "cell_type": "code",
   "execution_count": 10,
   "id": "2a7b4b66",
   "metadata": {},
   "outputs": [
    {
     "name": "stdout",
     "output_type": "stream",
     "text": [
      "fake    41416\n",
      "true    26882\n",
      "Name: Ground Label, dtype: int64\n"
     ]
    }
   ],
   "source": [
    "print(df['Ground Label'].value_counts())"
   ]
  },
  {
   "cell_type": "code",
   "execution_count": 45,
   "id": "a5689e63",
   "metadata": {},
   "outputs": [],
   "source": [
    "df2=df"
   ]
  },
  {
   "cell_type": "code",
   "execution_count": 11,
   "id": "84dec257",
   "metadata": {},
   "outputs": [],
   "source": [
    "import re\n",
    "#punctuation removal\n",
    "def remove_punctuations(s):\n",
    "    s = re.sub(r'[^\\w\\s]', '', s)\n",
    "    return s"
   ]
  },
  {
   "cell_type": "code",
   "execution_count": 27,
   "id": "1845fe11",
   "metadata": {},
   "outputs": [],
   "source": [
    "for col in ['title', 'text']:\n",
    "    df[col] = df[col].apply(remove_punctuations)\n",
    "    df[col] = df[col].apply(word_tokenize)"
   ]
  },
  {
   "cell_type": "code",
   "execution_count": 28,
   "id": "b0377f1c",
   "metadata": {},
   "outputs": [],
   "source": [
    "df1=df"
   ]
  },
  {
   "cell_type": "code",
   "execution_count": 15,
   "id": "01e3f8e6",
   "metadata": {},
   "outputs": [
    {
     "name": "stderr",
     "output_type": "stream",
     "text": [
      "[nltk_data] Downloading package stopwords to\n",
      "[nltk_data]     C:\\Users\\karim\\AppData\\Roaming\\nltk_data...\n",
      "[nltk_data]   Unzipping corpora\\stopwords.zip.\n"
     ]
    },
    {
     "data": {
      "text/plain": [
       "True"
      ]
     },
     "execution_count": 15,
     "metadata": {},
     "output_type": "execute_result"
    }
   ],
   "source": [
    "import nltk\n",
    "nltk.download('stopwords')"
   ]
  },
  {
   "cell_type": "code",
   "execution_count": 34,
   "id": "019f3c74",
   "metadata": {},
   "outputs": [
    {
     "name": "stderr",
     "output_type": "stream",
     "text": [
      "[nltk_data] Downloading package wordnet to\n",
      "[nltk_data]     C:\\Users\\karim\\AppData\\Roaming\\nltk_data...\n"
     ]
    }
   ],
   "source": [
    "#removing stopwords and lowercase ??? czy robic\n",
    "from nltk.corpus import stopwords\n",
    "from nltk.stem import WordNetLemmatizer\n",
    "stop = stopwords.words('english')\n",
    "lemmatizer = WordNetLemmatizer()\n",
    "def remove_stopwords(s):\n",
    "    s = [lemmatizer.lemmatize(word.lower()) for word in s if not word.lower() in stop]\n",
    "    return s"
   ]
  },
  {
   "cell_type": "code",
   "execution_count": null,
   "id": "a0bb4de6",
   "metadata": {},
   "outputs": [],
   "source": [
    "#usunięcie mało powtarzalnych wyrazów"
   ]
  },
  {
   "cell_type": "code",
   "execution_count": 35,
   "id": "06d9a552",
   "metadata": {},
   "outputs": [],
   "source": [
    "df['title'] = df['title'].apply(remove_stopwords)"
   ]
  },
  {
   "cell_type": "code",
   "execution_count": 36,
   "id": "ba4c2b86",
   "metadata": {},
   "outputs": [
    {
     "data": {
      "text/html": [
       "<div>\n",
       "<style scoped>\n",
       "    .dataframe tbody tr th:only-of-type {\n",
       "        vertical-align: middle;\n",
       "    }\n",
       "\n",
       "    .dataframe tbody tr th {\n",
       "        vertical-align: top;\n",
       "    }\n",
       "\n",
       "    .dataframe thead th {\n",
       "        text-align: right;\n",
       "    }\n",
       "</style>\n",
       "<table border=\"1\" class=\"dataframe\">\n",
       "  <thead>\n",
       "    <tr style=\"text-align: right;\">\n",
       "      <th></th>\n",
       "      <th>Unnamed: 0</th>\n",
       "      <th>title</th>\n",
       "      <th>text</th>\n",
       "      <th>Ground Label</th>\n",
       "    </tr>\n",
       "  </thead>\n",
       "  <tbody>\n",
       "    <tr>\n",
       "      <th>0</th>\n",
       "      <td>0</td>\n",
       "      <td>[ann, coulter, make, belief, gay, friend, make...</td>\n",
       "      <td>[It, s, hard, to, believe, but, Donald, Trump,...</td>\n",
       "      <td>fake</td>\n",
       "    </tr>\n",
       "    <tr>\n",
       "      <th>1</th>\n",
       "      <td>1</td>\n",
       "      <td>[rating, moody, verbessert, ausblick, für, rus...</td>\n",
       "      <td>[bankensektor, Der, russische, Staat, werde, d...</td>\n",
       "      <td>fake</td>\n",
       "    </tr>\n",
       "    <tr>\n",
       "      <th>2</th>\n",
       "      <td>2</td>\n",
       "      <td>[add, dirty, money, laundering, obama, 17, bil...</td>\n",
       "      <td>[A, member, of, the, House, Intelligence, Comm...</td>\n",
       "      <td>fake</td>\n",
       "    </tr>\n",
       "    <tr>\n",
       "      <th>3</th>\n",
       "      <td>3</td>\n",
       "      <td>[republican, obamacare, repeal, going, get, done]</td>\n",
       "      <td>[WASHINGTON, Reuters, House, of, Representativ...</td>\n",
       "      <td>true</td>\n",
       "    </tr>\n",
       "    <tr>\n",
       "      <th>4</th>\n",
       "      <td>4</td>\n",
       "      <td>[trump, possible, daca, deal, say, border, wal...</td>\n",
       "      <td>[WASHINGTON, Reuters, US, President, Donald, T...</td>\n",
       "      <td>true</td>\n",
       "    </tr>\n",
       "  </tbody>\n",
       "</table>\n",
       "</div>"
      ],
      "text/plain": [
       "   Unnamed: 0                                              title  \\\n",
       "0           0  [ann, coulter, make, belief, gay, friend, make...   \n",
       "1           1  [rating, moody, verbessert, ausblick, für, rus...   \n",
       "2           2  [add, dirty, money, laundering, obama, 17, bil...   \n",
       "3           3  [republican, obamacare, repeal, going, get, done]   \n",
       "4           4  [trump, possible, daca, deal, say, border, wal...   \n",
       "\n",
       "                                                text Ground Label  \n",
       "0  [It, s, hard, to, believe, but, Donald, Trump,...         fake  \n",
       "1  [bankensektor, Der, russische, Staat, werde, d...         fake  \n",
       "2  [A, member, of, the, House, Intelligence, Comm...         fake  \n",
       "3  [WASHINGTON, Reuters, House, of, Representativ...         true  \n",
       "4  [WASHINGTON, Reuters, US, President, Donald, T...         true  "
      ]
     },
     "execution_count": 36,
     "metadata": {},
     "output_type": "execute_result"
    }
   ],
   "source": [
    "df.head()"
   ]
  },
  {
   "cell_type": "code",
   "execution_count": 40,
   "id": "61f6dcec",
   "metadata": {},
   "outputs": [],
   "source": [
    "import textblob\n",
    "from textblob import TextBlob"
   ]
  },
  {
   "cell_type": "code",
   "execution_count": 49,
   "id": "ba6e4a14",
   "metadata": {},
   "outputs": [],
   "source": [
    "def (text):\n",
    "    blob = TextBlob(text)\n",
    "    return blob.sentiment.subjectivity"
   ]
  },
  {
   "cell_type": "code",
   "execution_count": 60,
   "id": "a974e7ec",
   "metadata": {},
   "outputs": [],
   "source": [
    "def list2string(text):\n",
    "    text = \" \".join(wrd for wrd in text)\n",
    "    return text"
   ]
  },
  {
   "cell_type": "code",
   "execution_count": 61,
   "id": "5a6f91ea",
   "metadata": {},
   "outputs": [],
   "source": [
    "df2=df"
   ]
  },
  {
   "cell_type": "code",
   "execution_count": 62,
   "id": "70c73c61",
   "metadata": {},
   "outputs": [
    {
     "data": {
      "text/html": [
       "<div>\n",
       "<style scoped>\n",
       "    .dataframe tbody tr th:only-of-type {\n",
       "        vertical-align: middle;\n",
       "    }\n",
       "\n",
       "    .dataframe tbody tr th {\n",
       "        vertical-align: top;\n",
       "    }\n",
       "\n",
       "    .dataframe thead th {\n",
       "        text-align: right;\n",
       "    }\n",
       "</style>\n",
       "<table border=\"1\" class=\"dataframe\">\n",
       "  <thead>\n",
       "    <tr style=\"text-align: right;\">\n",
       "      <th></th>\n",
       "      <th>Unnamed: 0</th>\n",
       "      <th>title</th>\n",
       "      <th>text</th>\n",
       "      <th>Ground Label</th>\n",
       "    </tr>\n",
       "  </thead>\n",
       "  <tbody>\n",
       "    <tr>\n",
       "      <th>0</th>\n",
       "      <td>0</td>\n",
       "      <td>[ann, coulter, make, belief, gay, friend, make...</td>\n",
       "      <td>[It, s, hard, to, believe, but, Donald, Trump,...</td>\n",
       "      <td>fake</td>\n",
       "    </tr>\n",
       "    <tr>\n",
       "      <th>1</th>\n",
       "      <td>1</td>\n",
       "      <td>[rating, moody, verbessert, ausblick, für, rus...</td>\n",
       "      <td>[bankensektor, Der, russische, Staat, werde, d...</td>\n",
       "      <td>fake</td>\n",
       "    </tr>\n",
       "    <tr>\n",
       "      <th>2</th>\n",
       "      <td>2</td>\n",
       "      <td>[add, dirty, money, laundering, obama, 17, bil...</td>\n",
       "      <td>[A, member, of, the, House, Intelligence, Comm...</td>\n",
       "      <td>fake</td>\n",
       "    </tr>\n",
       "    <tr>\n",
       "      <th>3</th>\n",
       "      <td>3</td>\n",
       "      <td>[republican, obamacare, repeal, going, get, done]</td>\n",
       "      <td>[WASHINGTON, Reuters, House, of, Representativ...</td>\n",
       "      <td>true</td>\n",
       "    </tr>\n",
       "    <tr>\n",
       "      <th>4</th>\n",
       "      <td>4</td>\n",
       "      <td>[trump, possible, daca, deal, say, border, wal...</td>\n",
       "      <td>[WASHINGTON, Reuters, US, President, Donald, T...</td>\n",
       "      <td>true</td>\n",
       "    </tr>\n",
       "  </tbody>\n",
       "</table>\n",
       "</div>"
      ],
      "text/plain": [
       "   Unnamed: 0                                              title  \\\n",
       "0           0  [ann, coulter, make, belief, gay, friend, make...   \n",
       "1           1  [rating, moody, verbessert, ausblick, für, rus...   \n",
       "2           2  [add, dirty, money, laundering, obama, 17, bil...   \n",
       "3           3  [republican, obamacare, repeal, going, get, done]   \n",
       "4           4  [trump, possible, daca, deal, say, border, wal...   \n",
       "\n",
       "                                                text Ground Label  \n",
       "0  [It, s, hard, to, believe, but, Donald, Trump,...         fake  \n",
       "1  [bankensektor, Der, russische, Staat, werde, d...         fake  \n",
       "2  [A, member, of, the, House, Intelligence, Comm...         fake  \n",
       "3  [WASHINGTON, Reuters, House, of, Representativ...         true  \n",
       "4  [WASHINGTON, Reuters, US, President, Donald, T...         true  "
      ]
     },
     "execution_count": 62,
     "metadata": {},
     "output_type": "execute_result"
    }
   ],
   "source": [
    "df2.head()"
   ]
  },
  {
   "cell_type": "code",
   "execution_count": 63,
   "id": "aa4890df",
   "metadata": {},
   "outputs": [
    {
     "data": {
      "text/plain": [
       "0        It s hard to believe but Donald Trump does hav...\n",
       "1        bankensektor Der russische Staat werde die Ban...\n",
       "2        A member of the House Intelligence Committee i...\n",
       "3        WASHINGTON Reuters House of Representatives Re...\n",
       "4        WASHINGTON Reuters US President Donald Trump s...\n",
       "                               ...                        \n",
       "69040    NAIROBI Reuters Burundi s main opposition grou...\n",
       "69041    Miss Universe 1996 Alicia Machado is now an Am...\n",
       "69042    The Daily Sheeple by Ryan Banister An awardwin...\n",
       "69043    Jesus fcking Christ our President is a moron N...\n",
       "69044    IF SHE S NOT TOAST NOW THEN WE RE IN BIGGER TR...\n",
       "Name: text, Length: 68298, dtype: object"
      ]
     },
     "execution_count": 63,
     "metadata": {},
     "output_type": "execute_result"
    }
   ],
   "source": [
    "df2[\"text\"] = df2[\"text\"].apply(list2string)"
   ]
  },
  {
   "cell_type": "code",
   "execution_count": 65,
   "id": "6165cd87",
   "metadata": {},
   "outputs": [
    {
     "data": {
      "text/plain": [
       "0        0.527778\n",
       "1        0.000000\n",
       "2        0.381755\n",
       "3        0.306325\n",
       "4        0.562500\n",
       "           ...   \n",
       "69040    0.263244\n",
       "69041    0.535000\n",
       "69042    0.210185\n",
       "69043    0.607885\n",
       "69044    0.269823\n",
       "Name: text, Length: 68298, dtype: float64"
      ]
     },
     "execution_count": 65,
     "metadata": {},
     "output_type": "execute_result"
    }
   ],
   "source": [
    "df2[\"text\"].apply(subjectivity)"
   ]
  }
 ],
 "metadata": {
  "kernelspec": {
   "display_name": "Python 3 (ipykernel)",
   "language": "python",
   "name": "python3"
  },
  "language_info": {
   "codemirror_mode": {
    "name": "ipython",
    "version": 3
   },
   "file_extension": ".py",
   "mimetype": "text/x-python",
   "name": "python",
   "nbconvert_exporter": "python",
   "pygments_lexer": "ipython3",
   "version": "3.9.7"
  }
 },
 "nbformat": 4,
 "nbformat_minor": 5
}
