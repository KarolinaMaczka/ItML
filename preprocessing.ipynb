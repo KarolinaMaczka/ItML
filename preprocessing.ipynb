{
 "cells": [
  {
   "cell_type": "code",
   "execution_count": 11,
   "id": "134a34ca",
   "metadata": {},
   "outputs": [
    {
     "name": "stderr",
     "output_type": "stream",
     "text": [
      "[nltk_data] Downloading package stopwords to\n",
      "[nltk_data]     C:\\Users\\tymek\\AppData\\Roaming\\nltk_data...\n",
      "[nltk_data]   Package stopwords is already up-to-date!\n",
      "[nltk_data] Downloading package punkt to\n",
      "[nltk_data]     C:\\Users\\tymek\\AppData\\Roaming\\nltk_data...\n",
      "[nltk_data]   Unzipping tokenizers\\punkt.zip.\n"
     ]
    },
    {
     "data": {
      "text/plain": [
       "True"
      ]
     },
     "execution_count": 11,
     "metadata": {},
     "output_type": "execute_result"
    }
   ],
   "source": [
    "import pandas as pd\n",
    "from sklearn.model_selection import train_test_split\n",
    "import matplotlib.pyplot as plt\n",
    "from sklearn.feature_extraction.text import TfidfVectorizer\n",
    "from nltk.tokenize import sent_tokenize, word_tokenize\n",
    "import nltk\n",
    "nltk.download('stopwords')\n",
    "nltk.download('punkt')"
   ]
  },
  {
   "cell_type": "code",
   "execution_count": 148,
   "id": "9aec9ea7",
   "metadata": {},
   "outputs": [],
   "source": [
    "df=pd.read_csv('PreProcessedData.csv', header=0, sep=',')"
   ]
  },
  {
   "cell_type": "code",
   "execution_count": 149,
   "id": "8fd54ecb",
   "metadata": {},
   "outputs": [
    {
     "data": {
      "text/html": [
       "<div>\n",
       "<style scoped>\n",
       "    .dataframe tbody tr th:only-of-type {\n",
       "        vertical-align: middle;\n",
       "    }\n",
       "\n",
       "    .dataframe tbody tr th {\n",
       "        vertical-align: top;\n",
       "    }\n",
       "\n",
       "    .dataframe thead th {\n",
       "        text-align: right;\n",
       "    }\n",
       "</style>\n",
       "<table border=\"1\" class=\"dataframe\">\n",
       "  <thead>\n",
       "    <tr style=\"text-align: right;\">\n",
       "      <th></th>\n",
       "      <th>Unnamed: 0</th>\n",
       "      <th>title</th>\n",
       "      <th>text</th>\n",
       "      <th>Ground Label</th>\n",
       "    </tr>\n",
       "  </thead>\n",
       "  <tbody>\n",
       "    <tr>\n",
       "      <th>0</th>\n",
       "      <td>0</td>\n",
       "      <td>Ann Coulter Make Believes She Has ‘Gay Friend...</td>\n",
       "      <td>It s hard to believe, but Donald Trump does ha...</td>\n",
       "      <td>fake</td>\n",
       "    </tr>\n",
       "    <tr>\n",
       "      <th>1</th>\n",
       "      <td>1</td>\n",
       "      <td>Rating: Moody‘s verbessert Ausblick für Russla...</td>\n",
       "      <td>bankensektor Der russische Staat werde die Ban...</td>\n",
       "      <td>fake</td>\n",
       "    </tr>\n",
       "    <tr>\n",
       "      <th>2</th>\n",
       "      <td>2</td>\n",
       "      <td>CAN WE ADD DIRTY MONEY ‘LAUNDERING’ To The Oba...</td>\n",
       "      <td>A member of the House Intelligence Committee i...</td>\n",
       "      <td>fake</td>\n",
       "    </tr>\n",
       "    <tr>\n",
       "      <th>3</th>\n",
       "      <td>3</td>\n",
       "      <td>Republicans on Obamacare repeal: 'We're going ...</td>\n",
       "      <td>WASHINGTON (Reuters) - House of Representative...</td>\n",
       "      <td>true</td>\n",
       "    </tr>\n",
       "    <tr>\n",
       "      <th>4</th>\n",
       "      <td>4</td>\n",
       "      <td>Trump, on possible DACA deal, says border wall...</td>\n",
       "      <td>WASHINGTON (Reuters) - U.S. President Donald T...</td>\n",
       "      <td>true</td>\n",
       "    </tr>\n",
       "  </tbody>\n",
       "</table>\n",
       "</div>"
      ],
      "text/plain": [
       "   Unnamed: 0                                              title  \\\n",
       "0           0   Ann Coulter Make Believes She Has ‘Gay Friend...   \n",
       "1           1  Rating: Moody‘s verbessert Ausblick für Russla...   \n",
       "2           2  CAN WE ADD DIRTY MONEY ‘LAUNDERING’ To The Oba...   \n",
       "3           3  Republicans on Obamacare repeal: 'We're going ...   \n",
       "4           4  Trump, on possible DACA deal, says border wall...   \n",
       "\n",
       "                                                text Ground Label  \n",
       "0  It s hard to believe, but Donald Trump does ha...         fake  \n",
       "1  bankensektor Der russische Staat werde die Ban...         fake  \n",
       "2  A member of the House Intelligence Committee i...         fake  \n",
       "3  WASHINGTON (Reuters) - House of Representative...         true  \n",
       "4  WASHINGTON (Reuters) - U.S. President Donald T...         true  "
      ]
     },
     "execution_count": 149,
     "metadata": {},
     "output_type": "execute_result"
    }
   ],
   "source": [
    "df.head()"
   ]
  },
  {
   "cell_type": "code",
   "execution_count": 150,
   "id": "91d0d0eb",
   "metadata": {},
   "outputs": [
    {
     "name": "stdout",
     "output_type": "stream",
     "text": [
      "<class 'pandas.core.frame.DataFrame'>\n",
      "RangeIndex: 69045 entries, 0 to 69044\n",
      "Data columns (total 4 columns):\n",
      " #   Column        Non-Null Count  Dtype \n",
      "---  ------        --------------  ----- \n",
      " 0   Unnamed: 0    69045 non-null  int64 \n",
      " 1   title         68365 non-null  object\n",
      " 2   text          68978 non-null  object\n",
      " 3   Ground Label  69045 non-null  object\n",
      "dtypes: int64(1), object(3)\n",
      "memory usage: 2.1+ MB\n",
      "None\n"
     ]
    }
   ],
   "source": [
    "print(df.info())"
   ]
  },
  {
   "cell_type": "code",
   "execution_count": 151,
   "id": "cab11ae1",
   "metadata": {},
   "outputs": [
    {
     "name": "stdout",
     "output_type": "stream",
     "text": [
      "<class 'pandas.core.frame.DataFrame'>\n",
      "Int64Index: 68298 entries, 0 to 69044\n",
      "Data columns (total 4 columns):\n",
      " #   Column        Non-Null Count  Dtype \n",
      "---  ------        --------------  ----- \n",
      " 0   Unnamed: 0    68298 non-null  int64 \n",
      " 1   title         68298 non-null  object\n",
      " 2   text          68298 non-null  object\n",
      " 3   Ground Label  68298 non-null  object\n",
      "dtypes: int64(1), object(3)\n",
      "memory usage: 2.6+ MB\n",
      "None\n"
     ]
    }
   ],
   "source": [
    "# Deleting NA values\n",
    "df=df.dropna(subset=['title', 'text'])\n",
    "print(df.info())"
   ]
  },
  {
   "cell_type": "code",
   "execution_count": 152,
   "id": "2a7b4b66",
   "metadata": {},
   "outputs": [
    {
     "name": "stdout",
     "output_type": "stream",
     "text": [
      "fake    41416\n",
      "true    26882\n",
      "Name: Ground Label, dtype: int64\n"
     ]
    }
   ],
   "source": [
    "print(df['Ground Label'].value_counts())"
   ]
  },
  {
   "cell_type": "code",
   "execution_count": 153,
   "id": "84dec257",
   "metadata": {},
   "outputs": [],
   "source": [
    "import re\n",
    "#punctuation removal\n",
    "def remove_punctuations(s):\n",
    "    s = re.sub(r'[^\\w\\s]', '', s)\n",
    "    return s"
   ]
  },
  {
   "cell_type": "code",
   "execution_count": 154,
   "id": "1845fe11",
   "metadata": {},
   "outputs": [],
   "source": [
    "for col in ['title', 'text']:\n",
    "    df[col] = df[col].apply(remove_punctuations)\n",
    "    df[col] = df[col].apply(word_tokenize)"
   ]
  },
  {
   "cell_type": "code",
   "execution_count": 155,
   "id": "019f3c74",
   "metadata": {},
   "outputs": [
    {
     "name": "stderr",
     "output_type": "stream",
     "text": [
      "[nltk_data] Downloading package wordnet to\n",
      "[nltk_data]     C:\\Users\\tymek\\AppData\\Roaming\\nltk_data...\n",
      "[nltk_data]   Package wordnet is already up-to-date!\n",
      "[nltk_data] Downloading package omw-1.4 to\n",
      "[nltk_data]     C:\\Users\\tymek\\AppData\\Roaming\\nltk_data...\n",
      "[nltk_data]   Package omw-1.4 is already up-to-date!\n"
     ]
    }
   ],
   "source": [
    "#removing stopwords and lowercase ??? czy robic\n",
    "from nltk.corpus import stopwords\n",
    "from nltk.stem import WordNetLemmatizer\n",
    "nltk.download('wordnet')\n",
    "nltk.download('omw-1.4')\n",
    "stop = stopwords.words('english')\n",
    "lemmatizer = WordNetLemmatizer()\n",
    "def remove_stopwords(s):\n",
    "    s = [lemmatizer.lemmatize(word.lower()) for word in s if not word.lower() in stop]\n",
    "    return s"
   ]
  },
  {
   "cell_type": "code",
   "execution_count": 156,
   "id": "06d9a552",
   "metadata": {},
   "outputs": [],
   "source": [
    "#usunięcie powtarzalnych wyrazów\n",
    "df['title'] = df['title'].apply(remove_stopwords)"
   ]
  },
  {
   "cell_type": "code",
   "execution_count": 157,
   "id": "6fb7c971",
   "metadata": {},
   "outputs": [],
   "source": [
    "df['text'] = df['text'].apply(remove_stopwords)"
   ]
  },
  {
   "cell_type": "code",
   "execution_count": 158,
   "id": "ba4c2b86",
   "metadata": {},
   "outputs": [
    {
     "data": {
      "text/html": [
       "<div>\n",
       "<style scoped>\n",
       "    .dataframe tbody tr th:only-of-type {\n",
       "        vertical-align: middle;\n",
       "    }\n",
       "\n",
       "    .dataframe tbody tr th {\n",
       "        vertical-align: top;\n",
       "    }\n",
       "\n",
       "    .dataframe thead th {\n",
       "        text-align: right;\n",
       "    }\n",
       "</style>\n",
       "<table border=\"1\" class=\"dataframe\">\n",
       "  <thead>\n",
       "    <tr style=\"text-align: right;\">\n",
       "      <th></th>\n",
       "      <th>Unnamed: 0</th>\n",
       "      <th>title</th>\n",
       "      <th>text</th>\n",
       "      <th>Ground Label</th>\n",
       "    </tr>\n",
       "  </thead>\n",
       "  <tbody>\n",
       "    <tr>\n",
       "      <th>0</th>\n",
       "      <td>0</td>\n",
       "      <td>[ann, coulter, make, belief, gay, friend, make...</td>\n",
       "      <td>[hard, believe, donald, trump, sizable, amount...</td>\n",
       "      <td>fake</td>\n",
       "    </tr>\n",
       "    <tr>\n",
       "      <th>1</th>\n",
       "      <td>1</td>\n",
       "      <td>[rating, moody, verbessert, ausblick, für, rus...</td>\n",
       "      <td>[bankensektor, der, russische, staat, werde, d...</td>\n",
       "      <td>fake</td>\n",
       "    </tr>\n",
       "    <tr>\n",
       "      <th>2</th>\n",
       "      <td>2</td>\n",
       "      <td>[add, dirty, money, laundering, obama, 17, bil...</td>\n",
       "      <td>[member, house, intelligence, committee, accus...</td>\n",
       "      <td>fake</td>\n",
       "    </tr>\n",
       "    <tr>\n",
       "      <th>3</th>\n",
       "      <td>3</td>\n",
       "      <td>[republican, obamacare, repeal, going, get, done]</td>\n",
       "      <td>[washington, reuters, house, representative, r...</td>\n",
       "      <td>true</td>\n",
       "    </tr>\n",
       "    <tr>\n",
       "      <th>4</th>\n",
       "      <td>4</td>\n",
       "      <td>[trump, possible, daca, deal, say, border, wal...</td>\n",
       "      <td>[washington, reuters, u, president, donald, tr...</td>\n",
       "      <td>true</td>\n",
       "    </tr>\n",
       "  </tbody>\n",
       "</table>\n",
       "</div>"
      ],
      "text/plain": [
       "   Unnamed: 0                                              title  \\\n",
       "0           0  [ann, coulter, make, belief, gay, friend, make...   \n",
       "1           1  [rating, moody, verbessert, ausblick, für, rus...   \n",
       "2           2  [add, dirty, money, laundering, obama, 17, bil...   \n",
       "3           3  [republican, obamacare, repeal, going, get, done]   \n",
       "4           4  [trump, possible, daca, deal, say, border, wal...   \n",
       "\n",
       "                                                text Ground Label  \n",
       "0  [hard, believe, donald, trump, sizable, amount...         fake  \n",
       "1  [bankensektor, der, russische, staat, werde, d...         fake  \n",
       "2  [member, house, intelligence, committee, accus...         fake  \n",
       "3  [washington, reuters, house, representative, r...         true  \n",
       "4  [washington, reuters, u, president, donald, tr...         true  "
      ]
     },
     "execution_count": 158,
     "metadata": {},
     "output_type": "execute_result"
    }
   ],
   "source": [
    "df.head()"
   ]
  },
  {
   "cell_type": "code",
   "execution_count": 159,
   "id": "61f6dcec",
   "metadata": {},
   "outputs": [],
   "source": [
    "import textblob\n",
    "from textblob import TextBlob"
   ]
  },
  {
   "cell_type": "code",
   "execution_count": 160,
   "id": "ba6e4a14",
   "metadata": {},
   "outputs": [],
   "source": [
    "def subjectivity(text):\n",
    "    blob = TextBlob(text)\n",
    "    return blob.sentiment.subjectivity"
   ]
  },
  {
   "cell_type": "code",
   "execution_count": 161,
   "id": "a974e7ec",
   "metadata": {},
   "outputs": [],
   "source": [
    "def list2string(text):\n",
    "    text = \" \".join(wrd for wrd in text)\n",
    "    return text"
   ]
  },
  {
   "cell_type": "code",
   "execution_count": 163,
   "id": "5a6f91ea",
   "metadata": {},
   "outputs": [],
   "source": [
    "df2=df.copy()"
   ]
  },
  {
   "cell_type": "code",
   "execution_count": 164,
   "id": "70c73c61",
   "metadata": {},
   "outputs": [
    {
     "data": {
      "text/html": [
       "<div>\n",
       "<style scoped>\n",
       "    .dataframe tbody tr th:only-of-type {\n",
       "        vertical-align: middle;\n",
       "    }\n",
       "\n",
       "    .dataframe tbody tr th {\n",
       "        vertical-align: top;\n",
       "    }\n",
       "\n",
       "    .dataframe thead th {\n",
       "        text-align: right;\n",
       "    }\n",
       "</style>\n",
       "<table border=\"1\" class=\"dataframe\">\n",
       "  <thead>\n",
       "    <tr style=\"text-align: right;\">\n",
       "      <th></th>\n",
       "      <th>Unnamed: 0</th>\n",
       "      <th>title</th>\n",
       "      <th>text</th>\n",
       "      <th>Ground Label</th>\n",
       "    </tr>\n",
       "  </thead>\n",
       "  <tbody>\n",
       "    <tr>\n",
       "      <th>0</th>\n",
       "      <td>0</td>\n",
       "      <td>[ann, coulter, make, belief, gay, friend, make...</td>\n",
       "      <td>[hard, believe, donald, trump, sizable, amount...</td>\n",
       "      <td>fake</td>\n",
       "    </tr>\n",
       "    <tr>\n",
       "      <th>1</th>\n",
       "      <td>1</td>\n",
       "      <td>[rating, moody, verbessert, ausblick, für, rus...</td>\n",
       "      <td>[bankensektor, der, russische, staat, werde, d...</td>\n",
       "      <td>fake</td>\n",
       "    </tr>\n",
       "    <tr>\n",
       "      <th>2</th>\n",
       "      <td>2</td>\n",
       "      <td>[add, dirty, money, laundering, obama, 17, bil...</td>\n",
       "      <td>[member, house, intelligence, committee, accus...</td>\n",
       "      <td>fake</td>\n",
       "    </tr>\n",
       "    <tr>\n",
       "      <th>3</th>\n",
       "      <td>3</td>\n",
       "      <td>[republican, obamacare, repeal, going, get, done]</td>\n",
       "      <td>[washington, reuters, house, representative, r...</td>\n",
       "      <td>true</td>\n",
       "    </tr>\n",
       "    <tr>\n",
       "      <th>4</th>\n",
       "      <td>4</td>\n",
       "      <td>[trump, possible, daca, deal, say, border, wal...</td>\n",
       "      <td>[washington, reuters, u, president, donald, tr...</td>\n",
       "      <td>true</td>\n",
       "    </tr>\n",
       "  </tbody>\n",
       "</table>\n",
       "</div>"
      ],
      "text/plain": [
       "   Unnamed: 0                                              title  \\\n",
       "0           0  [ann, coulter, make, belief, gay, friend, make...   \n",
       "1           1  [rating, moody, verbessert, ausblick, für, rus...   \n",
       "2           2  [add, dirty, money, laundering, obama, 17, bil...   \n",
       "3           3  [republican, obamacare, repeal, going, get, done]   \n",
       "4           4  [trump, possible, daca, deal, say, border, wal...   \n",
       "\n",
       "                                                text Ground Label  \n",
       "0  [hard, believe, donald, trump, sizable, amount...         fake  \n",
       "1  [bankensektor, der, russische, staat, werde, d...         fake  \n",
       "2  [member, house, intelligence, committee, accus...         fake  \n",
       "3  [washington, reuters, house, representative, r...         true  \n",
       "4  [washington, reuters, u, president, donald, tr...         true  "
      ]
     },
     "execution_count": 164,
     "metadata": {},
     "output_type": "execute_result"
    }
   ],
   "source": [
    "df2.head()"
   ]
  },
  {
   "cell_type": "code",
   "execution_count": 165,
   "id": "aa4890df",
   "metadata": {},
   "outputs": [],
   "source": [
    "df2[\"text\"] = df2[\"text\"].apply(list2string)\n",
    "df2['title'] = df2['title'].apply(list2string)"
   ]
  },
  {
   "cell_type": "code",
   "execution_count": 166,
   "id": "36a35cf5",
   "metadata": {},
   "outputs": [
    {
     "data": {
      "text/html": [
       "<div>\n",
       "<style scoped>\n",
       "    .dataframe tbody tr th:only-of-type {\n",
       "        vertical-align: middle;\n",
       "    }\n",
       "\n",
       "    .dataframe tbody tr th {\n",
       "        vertical-align: top;\n",
       "    }\n",
       "\n",
       "    .dataframe thead th {\n",
       "        text-align: right;\n",
       "    }\n",
       "</style>\n",
       "<table border=\"1\" class=\"dataframe\">\n",
       "  <thead>\n",
       "    <tr style=\"text-align: right;\">\n",
       "      <th></th>\n",
       "      <th>Unnamed: 0</th>\n",
       "      <th>title</th>\n",
       "      <th>text</th>\n",
       "      <th>Ground Label</th>\n",
       "    </tr>\n",
       "  </thead>\n",
       "  <tbody>\n",
       "    <tr>\n",
       "      <th>0</th>\n",
       "      <td>0</td>\n",
       "      <td>ann coulter make belief gay friend make racist...</td>\n",
       "      <td>hard believe donald trump sizable amount suppo...</td>\n",
       "      <td>fake</td>\n",
       "    </tr>\n",
       "    <tr>\n",
       "      <th>1</th>\n",
       "      <td>1</td>\n",
       "      <td>rating moody verbessert ausblick für russlands...</td>\n",
       "      <td>bankensektor der russische staat werde die ban...</td>\n",
       "      <td>fake</td>\n",
       "    </tr>\n",
       "    <tr>\n",
       "      <th>2</th>\n",
       "      <td>2</td>\n",
       "      <td>add dirty money laundering obama 17 billion ir...</td>\n",
       "      <td>member house intelligence committee accusing o...</td>\n",
       "      <td>fake</td>\n",
       "    </tr>\n",
       "    <tr>\n",
       "      <th>3</th>\n",
       "      <td>3</td>\n",
       "      <td>republican obamacare repeal going get done</td>\n",
       "      <td>washington reuters house representative republ...</td>\n",
       "      <td>true</td>\n",
       "    </tr>\n",
       "    <tr>\n",
       "      <th>4</th>\n",
       "      <td>4</td>\n",
       "      <td>trump possible daca deal say border wall would...</td>\n",
       "      <td>washington reuters u president donald trump sa...</td>\n",
       "      <td>true</td>\n",
       "    </tr>\n",
       "  </tbody>\n",
       "</table>\n",
       "</div>"
      ],
      "text/plain": [
       "   Unnamed: 0                                              title  \\\n",
       "0           0  ann coulter make belief gay friend make racist...   \n",
       "1           1  rating moody verbessert ausblick für russlands...   \n",
       "2           2  add dirty money laundering obama 17 billion ir...   \n",
       "3           3         republican obamacare repeal going get done   \n",
       "4           4  trump possible daca deal say border wall would...   \n",
       "\n",
       "                                                text Ground Label  \n",
       "0  hard believe donald trump sizable amount suppo...         fake  \n",
       "1  bankensektor der russische staat werde die ban...         fake  \n",
       "2  member house intelligence committee accusing o...         fake  \n",
       "3  washington reuters house representative republ...         true  \n",
       "4  washington reuters u president donald trump sa...         true  "
      ]
     },
     "execution_count": 166,
     "metadata": {},
     "output_type": "execute_result"
    }
   ],
   "source": [
    "df2.head()"
   ]
  },
  {
   "cell_type": "code",
   "execution_count": 167,
   "id": "6165cd87",
   "metadata": {},
   "outputs": [],
   "source": [
    "import re\n",
    "def deleteUrl(text):\n",
    "    return re.sub(r'(?i)\\b((?:https?://|www\\d{0,3}[.]|[a-z0-9.\\-]+[.][a-z]{2,4}/)(?:[^\\s()<>]+|\\(([^\\s()<>]+|(\\([^\\s()<>]+\\)))*\\))+(?:\\(([^\\s()<>]+|(\\([^\\s()<>]+\\)))*\\)|[^\\s`!()\\[\\]{};:\\'\".,<>?«»“”‘’]))', '', text)"
   ]
  },
  {
   "cell_type": "code",
   "execution_count": 168,
   "id": "5e113b13",
   "metadata": {},
   "outputs": [],
   "source": [
    "# usuwamy linki\n",
    "df2['text'] = df2['text'].apply(deleteUrl)"
   ]
  },
  {
   "cell_type": "code",
   "execution_count": 169,
   "id": "e0cee1d5",
   "metadata": {},
   "outputs": [],
   "source": [
    "from langdetect import detect"
   ]
  },
  {
   "cell_type": "code",
   "execution_count": 170,
   "id": "e02ca5cd",
   "metadata": {},
   "outputs": [],
   "source": [
    "df2['texttype'] = df2['text'].apply(type)\n",
    "df2['textlength'] = df2['text'].apply(len)"
   ]
  },
  {
   "cell_type": "code",
   "execution_count": 171,
   "id": "77ed2833",
   "metadata": {},
   "outputs": [],
   "source": [
    "df2 = df2[df2['textlength'] > 0]"
   ]
  },
  {
   "cell_type": "code",
   "execution_count": 172,
   "id": "49483692",
   "metadata": {
    "scrolled": true
   },
   "outputs": [],
   "source": [
    "def shortenText(text):\n",
    "    return text[:60]\n",
    "df2['shorttext'] = df2['text'].apply(shortenText)"
   ]
  },
  {
   "cell_type": "code",
   "execution_count": 173,
   "id": "f69b9bca",
   "metadata": {},
   "outputs": [],
   "source": [
    "# usuwamy teksty które mają mniej niż 10 znaków - wszystkie to były typu 'watch this (some url)'\n",
    "df2 = df2[df2['shorttext'].apply(len) > 10]"
   ]
  },
  {
   "cell_type": "code",
   "execution_count": 175,
   "id": "79fbe232",
   "metadata": {},
   "outputs": [
    {
     "data": {
      "text/html": [
       "<div>\n",
       "<style scoped>\n",
       "    .dataframe tbody tr th:only-of-type {\n",
       "        vertical-align: middle;\n",
       "    }\n",
       "\n",
       "    .dataframe tbody tr th {\n",
       "        vertical-align: top;\n",
       "    }\n",
       "\n",
       "    .dataframe thead th {\n",
       "        text-align: right;\n",
       "    }\n",
       "</style>\n",
       "<table border=\"1\" class=\"dataframe\">\n",
       "  <thead>\n",
       "    <tr style=\"text-align: right;\">\n",
       "      <th></th>\n",
       "      <th>Unnamed: 0</th>\n",
       "      <th>title</th>\n",
       "      <th>text</th>\n",
       "      <th>Ground Label</th>\n",
       "      <th>texttype</th>\n",
       "      <th>textlength</th>\n",
       "      <th>shorttext</th>\n",
       "    </tr>\n",
       "  </thead>\n",
       "  <tbody>\n",
       "    <tr>\n",
       "      <th>0</th>\n",
       "      <td>0</td>\n",
       "      <td>ann coulter make belief gay friend make racist...</td>\n",
       "      <td>hard believe donald trump sizable amount suppo...</td>\n",
       "      <td>fake</td>\n",
       "      <td>&lt;class 'str'&gt;</td>\n",
       "      <td>1364</td>\n",
       "      <td>hard believe donald trump sizable amount suppo...</td>\n",
       "    </tr>\n",
       "    <tr>\n",
       "      <th>1</th>\n",
       "      <td>1</td>\n",
       "      <td>rating moody verbessert ausblick für russlands...</td>\n",
       "      <td>bankensektor der russische staat werde die ban...</td>\n",
       "      <td>fake</td>\n",
       "      <td>&lt;class 'str'&gt;</td>\n",
       "      <td>1382</td>\n",
       "      <td>bankensektor der russische staat werde die ban...</td>\n",
       "    </tr>\n",
       "    <tr>\n",
       "      <th>2</th>\n",
       "      <td>2</td>\n",
       "      <td>add dirty money laundering obama 17 billion ir...</td>\n",
       "      <td>member house intelligence committee accusing o...</td>\n",
       "      <td>fake</td>\n",
       "      <td>&lt;class 'str'&gt;</td>\n",
       "      <td>1110</td>\n",
       "      <td>member house intelligence committee accusing o...</td>\n",
       "    </tr>\n",
       "    <tr>\n",
       "      <th>3</th>\n",
       "      <td>3</td>\n",
       "      <td>republican obamacare repeal going get done</td>\n",
       "      <td>washington reuters house representative republ...</td>\n",
       "      <td>true</td>\n",
       "      <td>&lt;class 'str'&gt;</td>\n",
       "      <td>421</td>\n",
       "      <td>washington reuters house representative republ...</td>\n",
       "    </tr>\n",
       "    <tr>\n",
       "      <th>4</th>\n",
       "      <td>4</td>\n",
       "      <td>trump possible daca deal say border wall would...</td>\n",
       "      <td>washington reuters u president donald trump sa...</td>\n",
       "      <td>true</td>\n",
       "      <td>&lt;class 'str'&gt;</td>\n",
       "      <td>425</td>\n",
       "      <td>washington reuters u president donald trump sa...</td>\n",
       "    </tr>\n",
       "    <tr>\n",
       "      <th>...</th>\n",
       "      <td>...</td>\n",
       "      <td>...</td>\n",
       "      <td>...</td>\n",
       "      <td>...</td>\n",
       "      <td>...</td>\n",
       "      <td>...</td>\n",
       "      <td>...</td>\n",
       "    </tr>\n",
       "    <tr>\n",
       "      <th>69040</th>\n",
       "      <td>69040</td>\n",
       "      <td>burundi opposition platform boycott new round ...</td>\n",
       "      <td>nairobi reuters burundi main opposition groupi...</td>\n",
       "      <td>true</td>\n",
       "      <td>&lt;class 'str'&gt;</td>\n",
       "      <td>1287</td>\n",
       "      <td>nairobi reuters burundi main opposition groupi...</td>\n",
       "    </tr>\n",
       "    <tr>\n",
       "      <th>69041</th>\n",
       "      <td>69041</td>\n",
       "      <td>hillary message former miss universe called mi...</td>\n",
       "      <td>miss universe 1996 alicia machado american cit...</td>\n",
       "      <td>fake</td>\n",
       "      <td>&lt;class 'str'&gt;</td>\n",
       "      <td>917</td>\n",
       "      <td>miss universe 1996 alicia machado american cit...</td>\n",
       "    </tr>\n",
       "    <tr>\n",
       "      <th>69042</th>\n",
       "      <td>69042</td>\n",
       "      <td>cop crash car run away cop arrive</td>\n",
       "      <td>daily sheeple ryan banister awardwinning calif...</td>\n",
       "      <td>fake</td>\n",
       "      <td>&lt;class 'str'&gt;</td>\n",
       "      <td>662</td>\n",
       "      <td>daily sheeple ryan banister awardwinning calif...</td>\n",
       "    </tr>\n",
       "    <tr>\n",
       "      <th>69043</th>\n",
       "      <td>69043</td>\n",
       "      <td>trump stole idea north korean propaganda parod...</td>\n",
       "      <td>jesus fcking christ president moron satisfied ...</td>\n",
       "      <td>fake</td>\n",
       "      <td>&lt;class 'str'&gt;</td>\n",
       "      <td>3428</td>\n",
       "      <td>jesus fcking christ president moron satisfied ...</td>\n",
       "    </tr>\n",
       "    <tr>\n",
       "      <th>69044</th>\n",
       "      <td>69044</td>\n",
       "      <td>breaking hillary clinton state department gave...</td>\n",
       "      <td>toast bigger trouble thought much whole thing ...</td>\n",
       "      <td>fake</td>\n",
       "      <td>&lt;class 'str'&gt;</td>\n",
       "      <td>1049</td>\n",
       "      <td>toast bigger trouble thought much whole thing ...</td>\n",
       "    </tr>\n",
       "  </tbody>\n",
       "</table>\n",
       "<p>67482 rows × 7 columns</p>\n",
       "</div>"
      ],
      "text/plain": [
       "       Unnamed: 0                                              title  \\\n",
       "0               0  ann coulter make belief gay friend make racist...   \n",
       "1               1  rating moody verbessert ausblick für russlands...   \n",
       "2               2  add dirty money laundering obama 17 billion ir...   \n",
       "3               3         republican obamacare repeal going get done   \n",
       "4               4  trump possible daca deal say border wall would...   \n",
       "...           ...                                                ...   \n",
       "69040       69040  burundi opposition platform boycott new round ...   \n",
       "69041       69041  hillary message former miss universe called mi...   \n",
       "69042       69042                  cop crash car run away cop arrive   \n",
       "69043       69043  trump stole idea north korean propaganda parod...   \n",
       "69044       69044  breaking hillary clinton state department gave...   \n",
       "\n",
       "                                                    text Ground Label  \\\n",
       "0      hard believe donald trump sizable amount suppo...         fake   \n",
       "1      bankensektor der russische staat werde die ban...         fake   \n",
       "2      member house intelligence committee accusing o...         fake   \n",
       "3      washington reuters house representative republ...         true   \n",
       "4      washington reuters u president donald trump sa...         true   \n",
       "...                                                  ...          ...   \n",
       "69040  nairobi reuters burundi main opposition groupi...         true   \n",
       "69041  miss universe 1996 alicia machado american cit...         fake   \n",
       "69042  daily sheeple ryan banister awardwinning calif...         fake   \n",
       "69043  jesus fcking christ president moron satisfied ...         fake   \n",
       "69044  toast bigger trouble thought much whole thing ...         fake   \n",
       "\n",
       "            texttype  textlength  \\\n",
       "0      <class 'str'>        1364   \n",
       "1      <class 'str'>        1382   \n",
       "2      <class 'str'>        1110   \n",
       "3      <class 'str'>         421   \n",
       "4      <class 'str'>         425   \n",
       "...              ...         ...   \n",
       "69040  <class 'str'>        1287   \n",
       "69041  <class 'str'>         917   \n",
       "69042  <class 'str'>         662   \n",
       "69043  <class 'str'>        3428   \n",
       "69044  <class 'str'>        1049   \n",
       "\n",
       "                                               shorttext  \n",
       "0      hard believe donald trump sizable amount suppo...  \n",
       "1      bankensektor der russische staat werde die ban...  \n",
       "2      member house intelligence committee accusing o...  \n",
       "3      washington reuters house representative republ...  \n",
       "4      washington reuters u president donald trump sa...  \n",
       "...                                                  ...  \n",
       "69040  nairobi reuters burundi main opposition groupi...  \n",
       "69041  miss universe 1996 alicia machado american cit...  \n",
       "69042  daily sheeple ryan banister awardwinning calif...  \n",
       "69043  jesus fcking christ president moron satisfied ...  \n",
       "69044  toast bigger trouble thought much whole thing ...  \n",
       "\n",
       "[67482 rows x 7 columns]"
      ]
     },
     "execution_count": 175,
     "metadata": {},
     "output_type": "execute_result"
    }
   ],
   "source": [
    "df2"
   ]
  },
  {
   "cell_type": "code",
   "execution_count": 179,
   "id": "0787462c",
   "metadata": {},
   "outputs": [],
   "source": [
    "df2['lang'] = df2['shorttext'].apply(detect)"
   ]
  },
  {
   "cell_type": "code",
   "execution_count": 180,
   "id": "fa0f026a",
   "metadata": {},
   "outputs": [],
   "source": [
    "df3 = df2.copy()"
   ]
  },
  {
   "cell_type": "code",
   "execution_count": 181,
   "id": "4d21a2bc",
   "metadata": {},
   "outputs": [
    {
     "data": {
      "text/plain": [
       "en       59662\n",
       "fr        1498\n",
       "it         949\n",
       "ca         720\n",
       "nl         581\n",
       "es         576\n",
       "no         552\n",
       "da         467\n",
       "ro         432\n",
       "id         432\n",
       "af         383\n",
       "sv         221\n",
       "ru         202\n",
       "et         180\n",
       "de         167\n",
       "pt          94\n",
       "sl          59\n",
       "tl          45\n",
       "pl          41\n",
       "cy          34\n",
       "sq          32\n",
       "hr          30\n",
       "fi          28\n",
       "ar          22\n",
       "tr          16\n",
       "so          16\n",
       "lt          14\n",
       "sk           8\n",
       "sw           7\n",
       "el           5\n",
       "hu           3\n",
       "lv           2\n",
       "bg           2\n",
       "zh-cn        1\n",
       "cs           1\n",
       "Name: lang, dtype: int64"
      ]
     },
     "execution_count": 181,
     "metadata": {},
     "output_type": "execute_result"
    }
   ],
   "source": [
    "df3['lang'].value_counts()"
   ]
  },
  {
   "cell_type": "code",
   "execution_count": 182,
   "id": "1617f62d",
   "metadata": {},
   "outputs": [],
   "source": [
    "# robimy model który będzie wykrywał po angielsku\n",
    "df3 = df3[df3['lang']=='en']"
   ]
  },
  {
   "cell_type": "code",
   "execution_count": 183,
   "id": "8d22a8d4",
   "metadata": {},
   "outputs": [
    {
     "name": "stdout",
     "output_type": "stream",
     "text": [
      "<class 'pandas.core.frame.DataFrame'>\n",
      "Int64Index: 59662 entries, 0 to 69044\n",
      "Data columns (total 8 columns):\n",
      " #   Column        Non-Null Count  Dtype \n",
      "---  ------        --------------  ----- \n",
      " 0   Unnamed: 0    59662 non-null  int64 \n",
      " 1   title         59662 non-null  object\n",
      " 2   text          59662 non-null  object\n",
      " 3   Ground Label  59662 non-null  object\n",
      " 4   texttype      59662 non-null  object\n",
      " 5   textlength    59662 non-null  int64 \n",
      " 6   shorttext     59662 non-null  object\n",
      " 7   lang          59662 non-null  object\n",
      "dtypes: int64(2), object(6)\n",
      "memory usage: 4.1+ MB\n"
     ]
    }
   ],
   "source": [
    "df3.info()"
   ]
  },
  {
   "cell_type": "code",
   "execution_count": 193,
   "id": "8ccf41f2",
   "metadata": {},
   "outputs": [],
   "source": [
    "# sprzątanie\n",
    "df4 = df3[['title', 'text', 'Ground Label']].reset_index(drop=True)"
   ]
  },
  {
   "cell_type": "code",
   "execution_count": 196,
   "id": "e109fe4d",
   "metadata": {},
   "outputs": [
    {
     "data": {
      "text/html": [
       "<div>\n",
       "<style scoped>\n",
       "    .dataframe tbody tr th:only-of-type {\n",
       "        vertical-align: middle;\n",
       "    }\n",
       "\n",
       "    .dataframe tbody tr th {\n",
       "        vertical-align: top;\n",
       "    }\n",
       "\n",
       "    .dataframe thead th {\n",
       "        text-align: right;\n",
       "    }\n",
       "</style>\n",
       "<table border=\"1\" class=\"dataframe\">\n",
       "  <thead>\n",
       "    <tr style=\"text-align: right;\">\n",
       "      <th></th>\n",
       "      <th>title</th>\n",
       "      <th>text</th>\n",
       "      <th>label</th>\n",
       "    </tr>\n",
       "  </thead>\n",
       "  <tbody>\n",
       "    <tr>\n",
       "      <th>0</th>\n",
       "      <td>ann coulter make belief gay friend make racist...</td>\n",
       "      <td>hard believe donald trump sizable amount suppo...</td>\n",
       "      <td>fake</td>\n",
       "    </tr>\n",
       "    <tr>\n",
       "      <th>1</th>\n",
       "      <td>add dirty money laundering obama 17 billion ir...</td>\n",
       "      <td>member house intelligence committee accusing o...</td>\n",
       "      <td>fake</td>\n",
       "    </tr>\n",
       "    <tr>\n",
       "      <th>2</th>\n",
       "      <td>republican obamacare repeal going get done</td>\n",
       "      <td>washington reuters house representative republ...</td>\n",
       "      <td>true</td>\n",
       "    </tr>\n",
       "    <tr>\n",
       "      <th>3</th>\n",
       "      <td>trump possible daca deal say border wall would...</td>\n",
       "      <td>washington reuters u president donald trump sa...</td>\n",
       "      <td>true</td>\n",
       "    </tr>\n",
       "    <tr>\n",
       "      <th>4</th>\n",
       "      <td>trump administration force peace james p pinke...</td>\n",
       "      <td>originally appeared american conservative dona...</td>\n",
       "      <td>fake</td>\n",
       "    </tr>\n",
       "  </tbody>\n",
       "</table>\n",
       "</div>"
      ],
      "text/plain": [
       "                                               title  \\\n",
       "0  ann coulter make belief gay friend make racist...   \n",
       "1  add dirty money laundering obama 17 billion ir...   \n",
       "2         republican obamacare repeal going get done   \n",
       "3  trump possible daca deal say border wall would...   \n",
       "4  trump administration force peace james p pinke...   \n",
       "\n",
       "                                                text label  \n",
       "0  hard believe donald trump sizable amount suppo...  fake  \n",
       "1  member house intelligence committee accusing o...  fake  \n",
       "2  washington reuters house representative republ...  true  \n",
       "3  washington reuters u president donald trump sa...  true  \n",
       "4  originally appeared american conservative dona...  fake  "
      ]
     },
     "execution_count": 196,
     "metadata": {},
     "output_type": "execute_result"
    }
   ],
   "source": [
    "df4.rename(columns={'Ground Label': 'label'}, inplace=True)\n",
    "df4.head()"
   ]
  },
  {
   "cell_type": "code",
   "execution_count": 197,
   "id": "bca7fbb1",
   "metadata": {},
   "outputs": [],
   "source": [
    "df4.to_csv('ml_data.csv', index=False)"
   ]
  },
  {
   "cell_type": "code",
   "execution_count": 198,
   "id": "bf26c7cb",
   "metadata": {},
   "outputs": [
    {
     "name": "stdout",
     "output_type": "stream",
     "text": [
      "<class 'pandas.core.frame.DataFrame'>\n",
      "RangeIndex: 59662 entries, 0 to 59661\n",
      "Data columns (total 3 columns):\n",
      " #   Column  Non-Null Count  Dtype \n",
      "---  ------  --------------  ----- \n",
      " 0   title   59662 non-null  object\n",
      " 1   text    59662 non-null  object\n",
      " 2   label   59662 non-null  object\n",
      "dtypes: object(3)\n",
      "memory usage: 1.4+ MB\n"
     ]
    }
   ],
   "source": [
    "df4.info()"
   ]
  },
  {
   "cell_type": "code",
   "execution_count": null,
   "id": "3b2206c9",
   "metadata": {},
   "outputs": [],
   "source": []
  }
 ],
 "metadata": {
  "kernelspec": {
   "display_name": "Python 3 (ipykernel)",
   "language": "python",
   "name": "python3"
  },
  "language_info": {
   "codemirror_mode": {
    "name": "ipython",
    "version": 3
   },
   "file_extension": ".py",
   "mimetype": "text/x-python",
   "name": "python",
   "nbconvert_exporter": "python",
   "pygments_lexer": "ipython3",
   "version": "3.9.13"
  }
 },
 "nbformat": 4,
 "nbformat_minor": 5
}
