{
 "cells": [
  {
   "cell_type": "markdown",
   "id": "ce247929",
   "metadata": {},
   "source": [
    "# Fakenews detection\n",
    "Karolina Mączka, Tymoteusz Urban"
   ]
  },
  {
   "cell_type": "code",
   "execution_count": 3,
   "id": "93248206",
   "metadata": {
    "scrolled": true
   },
   "outputs": [
    {
     "name": "stderr",
     "output_type": "stream",
     "text": [
      "[nltk_data] Downloading package stopwords to\n",
      "[nltk_data]     C:\\Users\\tymek\\AppData\\Roaming\\nltk_data...\n",
      "[nltk_data]   Package stopwords is already up-to-date!\n",
      "[nltk_data] Downloading package punkt to\n",
      "[nltk_data]     C:\\Users\\tymek\\AppData\\Roaming\\nltk_data...\n",
      "[nltk_data]   Package punkt is already up-to-date!\n"
     ]
    }
   ],
   "source": [
    "import pandas as pd\n",
    "from sklearn.model_selection import train_test_split\n",
    "import matplotlib.pyplot as plt\n",
    "from sklearn.feature_extraction.text import TfidfVectorizer\n",
    "from nltk.tokenize import sent_tokenize, word_tokenize\n",
    "import nltk\n",
    "nltk.download('stopwords')\n",
    "nltk.download('punkt')\n",
    "import sklearn"
   ]
  },
  {
   "cell_type": "markdown",
   "id": "469aa131",
   "metadata": {},
   "source": [
    "## Getting to know the data"
   ]
  },
  {
   "cell_type": "code",
   "execution_count": 4,
   "id": "f665a560",
   "metadata": {},
   "outputs": [],
   "source": [
    "df=pd.read_csv('PreProcessedData.csv', header=0, sep=',')"
   ]
  },
  {
   "cell_type": "code",
   "execution_count": 5,
   "id": "8b07b807",
   "metadata": {},
   "outputs": [
    {
     "data": {
      "text/html": [
       "<div>\n",
       "<style scoped>\n",
       "    .dataframe tbody tr th:only-of-type {\n",
       "        vertical-align: middle;\n",
       "    }\n",
       "\n",
       "    .dataframe tbody tr th {\n",
       "        vertical-align: top;\n",
       "    }\n",
       "\n",
       "    .dataframe thead th {\n",
       "        text-align: right;\n",
       "    }\n",
       "</style>\n",
       "<table border=\"1\" class=\"dataframe\">\n",
       "  <thead>\n",
       "    <tr style=\"text-align: right;\">\n",
       "      <th></th>\n",
       "      <th>Unnamed: 0</th>\n",
       "      <th>title</th>\n",
       "      <th>text</th>\n",
       "      <th>Ground Label</th>\n",
       "    </tr>\n",
       "  </thead>\n",
       "  <tbody>\n",
       "    <tr>\n",
       "      <th>0</th>\n",
       "      <td>0</td>\n",
       "      <td>Ann Coulter Make Believes She Has ‘Gay Friend...</td>\n",
       "      <td>It s hard to believe, but Donald Trump does ha...</td>\n",
       "      <td>fake</td>\n",
       "    </tr>\n",
       "    <tr>\n",
       "      <th>1</th>\n",
       "      <td>1</td>\n",
       "      <td>Rating: Moody‘s verbessert Ausblick für Russla...</td>\n",
       "      <td>bankensektor Der russische Staat werde die Ban...</td>\n",
       "      <td>fake</td>\n",
       "    </tr>\n",
       "    <tr>\n",
       "      <th>2</th>\n",
       "      <td>2</td>\n",
       "      <td>CAN WE ADD DIRTY MONEY ‘LAUNDERING’ To The Oba...</td>\n",
       "      <td>A member of the House Intelligence Committee i...</td>\n",
       "      <td>fake</td>\n",
       "    </tr>\n",
       "    <tr>\n",
       "      <th>3</th>\n",
       "      <td>3</td>\n",
       "      <td>Republicans on Obamacare repeal: 'We're going ...</td>\n",
       "      <td>WASHINGTON (Reuters) - House of Representative...</td>\n",
       "      <td>true</td>\n",
       "    </tr>\n",
       "    <tr>\n",
       "      <th>4</th>\n",
       "      <td>4</td>\n",
       "      <td>Trump, on possible DACA deal, says border wall...</td>\n",
       "      <td>WASHINGTON (Reuters) - U.S. President Donald T...</td>\n",
       "      <td>true</td>\n",
       "    </tr>\n",
       "  </tbody>\n",
       "</table>\n",
       "</div>"
      ],
      "text/plain": [
       "   Unnamed: 0                                              title  \\\n",
       "0           0   Ann Coulter Make Believes She Has ‘Gay Friend...   \n",
       "1           1  Rating: Moody‘s verbessert Ausblick für Russla...   \n",
       "2           2  CAN WE ADD DIRTY MONEY ‘LAUNDERING’ To The Oba...   \n",
       "3           3  Republicans on Obamacare repeal: 'We're going ...   \n",
       "4           4  Trump, on possible DACA deal, says border wall...   \n",
       "\n",
       "                                                text Ground Label  \n",
       "0  It s hard to believe, but Donald Trump does ha...         fake  \n",
       "1  bankensektor Der russische Staat werde die Ban...         fake  \n",
       "2  A member of the House Intelligence Committee i...         fake  \n",
       "3  WASHINGTON (Reuters) - House of Representative...         true  \n",
       "4  WASHINGTON (Reuters) - U.S. President Donald T...         true  "
      ]
     },
     "execution_count": 5,
     "metadata": {},
     "output_type": "execute_result"
    }
   ],
   "source": [
    "df.head()"
   ]
  },
  {
   "cell_type": "code",
   "execution_count": 6,
   "id": "709e59cf",
   "metadata": {
    "scrolled": false
   },
   "outputs": [
    {
     "name": "stdout",
     "output_type": "stream",
     "text": [
      "<class 'pandas.core.frame.DataFrame'>\n",
      "RangeIndex: 69045 entries, 0 to 69044\n",
      "Data columns (total 4 columns):\n",
      " #   Column        Non-Null Count  Dtype \n",
      "---  ------        --------------  ----- \n",
      " 0   Unnamed: 0    69045 non-null  int64 \n",
      " 1   title         68365 non-null  object\n",
      " 2   text          68978 non-null  object\n",
      " 3   Ground Label  69045 non-null  object\n",
      "dtypes: int64(1), object(3)\n",
      "memory usage: 2.1+ MB\n"
     ]
    }
   ],
   "source": [
    "df.info()"
   ]
  },
  {
   "cell_type": "code",
   "execution_count": 7,
   "id": "2784ed96",
   "metadata": {},
   "outputs": [
    {
     "data": {
      "text/html": [
       "<div>\n",
       "<style scoped>\n",
       "    .dataframe tbody tr th:only-of-type {\n",
       "        vertical-align: middle;\n",
       "    }\n",
       "\n",
       "    .dataframe tbody tr th {\n",
       "        vertical-align: top;\n",
       "    }\n",
       "\n",
       "    .dataframe thead th {\n",
       "        text-align: right;\n",
       "    }\n",
       "</style>\n",
       "<table border=\"1\" class=\"dataframe\">\n",
       "  <thead>\n",
       "    <tr style=\"text-align: right;\">\n",
       "      <th></th>\n",
       "      <th>title</th>\n",
       "      <th>text</th>\n",
       "      <th>label</th>\n",
       "    </tr>\n",
       "  </thead>\n",
       "  <tbody>\n",
       "    <tr>\n",
       "      <th>0</th>\n",
       "      <td>Ann Coulter Make Believes She Has ‘Gay Friend...</td>\n",
       "      <td>It s hard to believe, but Donald Trump does ha...</td>\n",
       "      <td>fake</td>\n",
       "    </tr>\n",
       "    <tr>\n",
       "      <th>1</th>\n",
       "      <td>Rating: Moody‘s verbessert Ausblick für Russla...</td>\n",
       "      <td>bankensektor Der russische Staat werde die Ban...</td>\n",
       "      <td>fake</td>\n",
       "    </tr>\n",
       "    <tr>\n",
       "      <th>2</th>\n",
       "      <td>CAN WE ADD DIRTY MONEY ‘LAUNDERING’ To The Oba...</td>\n",
       "      <td>A member of the House Intelligence Committee i...</td>\n",
       "      <td>fake</td>\n",
       "    </tr>\n",
       "    <tr>\n",
       "      <th>3</th>\n",
       "      <td>Republicans on Obamacare repeal: 'We're going ...</td>\n",
       "      <td>WASHINGTON (Reuters) - House of Representative...</td>\n",
       "      <td>true</td>\n",
       "    </tr>\n",
       "    <tr>\n",
       "      <th>4</th>\n",
       "      <td>Trump, on possible DACA deal, says border wall...</td>\n",
       "      <td>WASHINGTON (Reuters) - U.S. President Donald T...</td>\n",
       "      <td>true</td>\n",
       "    </tr>\n",
       "  </tbody>\n",
       "</table>\n",
       "</div>"
      ],
      "text/plain": [
       "                                               title  \\\n",
       "0   Ann Coulter Make Believes She Has ‘Gay Friend...   \n",
       "1  Rating: Moody‘s verbessert Ausblick für Russla...   \n",
       "2  CAN WE ADD DIRTY MONEY ‘LAUNDERING’ To The Oba...   \n",
       "3  Republicans on Obamacare repeal: 'We're going ...   \n",
       "4  Trump, on possible DACA deal, says border wall...   \n",
       "\n",
       "                                                text label  \n",
       "0  It s hard to believe, but Donald Trump does ha...  fake  \n",
       "1  bankensektor Der russische Staat werde die Ban...  fake  \n",
       "2  A member of the House Intelligence Committee i...  fake  \n",
       "3  WASHINGTON (Reuters) - House of Representative...  true  \n",
       "4  WASHINGTON (Reuters) - U.S. President Donald T...  true  "
      ]
     },
     "execution_count": 7,
     "metadata": {},
     "output_type": "execute_result"
    }
   ],
   "source": [
    "# porządek\n",
    "df = df[['title', 'text', 'Ground Label']]\n",
    "df.rename(columns={'Ground Label': 'label'}, inplace=True)\n",
    "df.head()"
   ]
  },
  {
   "cell_type": "code",
   "execution_count": 8,
   "id": "4bfad9dd",
   "metadata": {},
   "outputs": [
    {
     "data": {
      "text/plain": [
       "fake    42159\n",
       "true    26886\n",
       "Name: label, dtype: int64"
      ]
     },
     "execution_count": 8,
     "metadata": {},
     "output_type": "execute_result"
    }
   ],
   "source": [
    "df['label'].value_counts()"
   ]
  },
  {
   "cell_type": "markdown",
   "id": "93af8965",
   "metadata": {},
   "source": [
    "## Train test split"
   ]
  },
  {
   "cell_type": "code",
   "execution_count": 9,
   "id": "38a2891c",
   "metadata": {},
   "outputs": [],
   "source": [
    "# Rozdzielamy zbiory do trenowania i testowania\n",
    "X_rest, X_test, y_rest, y_test = train_test_split(df[['title', 'text']], df['label'], test_size=0.30, random_state=42)"
   ]
  },
  {
   "cell_type": "code",
   "execution_count": 8,
   "id": "15a8c42e",
   "metadata": {},
   "outputs": [
    {
     "data": {
      "text/plain": [
       "fake    29459\n",
       "true    18872\n",
       "Name: label, dtype: int64"
      ]
     },
     "execution_count": 8,
     "metadata": {},
     "output_type": "execute_result"
    }
   ],
   "source": [
    "y_rest.value_counts()"
   ]
  },
  {
   "cell_type": "code",
   "execution_count": 9,
   "id": "73ceaa3f",
   "metadata": {},
   "outputs": [],
   "source": [
    "X_train, X_validate, y_train, y_validate = train_test_split(X_rest, y_rest, test_size=0.30, random_state=42)"
   ]
  },
  {
   "cell_type": "code",
   "execution_count": 10,
   "id": "c2d07c00",
   "metadata": {},
   "outputs": [
    {
     "name": "stdout",
     "output_type": "stream",
     "text": [
      "fake    20645\n",
      "true    13186\n",
      "Name: label, dtype: int64\n",
      "fake    8814\n",
      "true    5686\n",
      "Name: label, dtype: int64\n"
     ]
    }
   ],
   "source": [
    "print(y_train.value_counts())\n",
    "print(y_validate.value_counts())"
   ]
  },
  {
   "cell_type": "markdown",
   "id": "c60f19fc",
   "metadata": {},
   "source": [
    "stosunek ilości fake do true wszędzie jest taki sam, więc możemy przyjąć że jest to dobre rozdzielenie danych"
   ]
  },
  {
   "cell_type": "code",
   "execution_count": null,
   "id": "88da294f",
   "metadata": {},
   "outputs": [],
   "source": [
    "testing_df = pd.concat([X_test, y_test], axis=1)\n",
    "testing_df.to_csv('testing_data.csv', index='False')"
   ]
  },
  {
   "cell_type": "code",
   "execution_count": 11,
   "id": "21794ee3",
   "metadata": {
    "scrolled": false
   },
   "outputs": [
    {
     "name": "stdout",
     "output_type": "stream",
     "text": [
      "<class 'pandas.core.frame.DataFrame'>\n",
      "Int64Index: 14500 entries, 55024 to 57779\n",
      "Data columns (total 3 columns):\n",
      " #   Column  Non-Null Count  Dtype \n",
      "---  ------  --------------  ----- \n",
      " 0   title   14368 non-null  object\n",
      " 1   text    14486 non-null  object\n",
      " 2   label   14500 non-null  object\n",
      "dtypes: object(3)\n",
      "memory usage: 453.1+ KB\n"
     ]
    }
   ],
   "source": [
    "# zapisanie ramki do walidacji\n",
    "validate_df = pd.concat([X_validate, y_validate], axis=1)\n",
    "validate_df.to_csv('fakenws_validation.csv', index='False')\n",
    "validate_df.info()"
   ]
  },
  {
   "cell_type": "code",
   "execution_count": 30,
   "id": "176fc409",
   "metadata": {
    "scrolled": true
   },
   "outputs": [
    {
     "name": "stdout",
     "output_type": "stream",
     "text": [
      "<class 'pandas.core.frame.DataFrame'>\n",
      "Int64Index: 33831 entries, 17623 to 8544\n",
      "Data columns (total 3 columns):\n",
      " #   Column  Non-Null Count  Dtype \n",
      "---  ------  --------------  ----- \n",
      " 0   title   33497 non-null  object\n",
      " 1   text    33800 non-null  object\n",
      " 2   label   33831 non-null  object\n",
      "dtypes: object(3)\n",
      "memory usage: 1.0+ MB\n"
     ]
    }
   ],
   "source": [
    "df2 = pd.concat([X_train, y_train], axis=1)\n",
    "df2.info()"
   ]
  },
  {
   "cell_type": "markdown",
   "id": "daed4a84",
   "metadata": {},
   "source": [
    "## Data Preprocessing"
   ]
  },
  {
   "cell_type": "markdown",
   "id": "3ad72669",
   "metadata": {},
   "source": [
    "### NaNs"
   ]
  },
  {
   "cell_type": "code",
   "execution_count": 31,
   "id": "f998743c",
   "metadata": {
    "scrolled": true
   },
   "outputs": [
    {
     "name": "stdout",
     "output_type": "stream",
     "text": [
      "<class 'pandas.core.frame.DataFrame'>\n",
      "Int64Index: 33466 entries, 17623 to 8544\n",
      "Data columns (total 3 columns):\n",
      " #   Column  Non-Null Count  Dtype \n",
      "---  ------  --------------  ----- \n",
      " 0   title   33466 non-null  object\n",
      " 1   text    33466 non-null  object\n",
      " 2   label   33466 non-null  object\n",
      "dtypes: object(3)\n",
      "memory usage: 1.0+ MB\n"
     ]
    }
   ],
   "source": [
    "# Jest bardzo mało nulli więc możemy się ich pozbyć\n",
    "df2.dropna(inplace = True)\n",
    "df2.info()"
   ]
  },
  {
   "cell_type": "code",
   "execution_count": null,
   "id": "0e163557",
   "metadata": {},
   "outputs": [],
   "source": [
    "# transformer function\n",
    "def handleNa(df):\n",
    "    df.dropna(inplace=True)\n",
    "    return df"
   ]
  },
  {
   "cell_type": "markdown",
   "id": "d4b4bf9d",
   "metadata": {},
   "source": [
    "### Removing stopwords"
   ]
  },
  {
   "cell_type": "code",
   "execution_count": 4,
   "id": "1f973060",
   "metadata": {
    "scrolled": true
   },
   "outputs": [
    {
     "name": "stderr",
     "output_type": "stream",
     "text": [
      "[nltk_data] Downloading package wordnet to\n",
      "[nltk_data]     C:\\Users\\tymek\\AppData\\Roaming\\nltk_data...\n",
      "[nltk_data]   Package wordnet is already up-to-date!\n",
      "[nltk_data] Downloading package omw-1.4 to\n",
      "[nltk_data]     C:\\Users\\tymek\\AppData\\Roaming\\nltk_data...\n",
      "[nltk_data]   Package omw-1.4 is already up-to-date!\n"
     ]
    }
   ],
   "source": [
    "from nltk.corpus import stopwords\n",
    "from nltk.stem import WordNetLemmatizer\n",
    "nltk.download('wordnet')\n",
    "nltk.download('omw-1.4')\n",
    "import re"
   ]
  },
  {
   "cell_type": "code",
   "execution_count": 5,
   "id": "995b9ffd",
   "metadata": {},
   "outputs": [],
   "source": [
    "#stopword removal\n",
    "stop = stopwords.words('english')\n",
    "lemmatizer = WordNetLemmatizer()\n",
    "def remove_stopwords(s):\n",
    "    s = [lemmatizer.lemmatize(word.lower()) for word in s if not word.lower() in stop]\n",
    "    return s"
   ]
  },
  {
   "cell_type": "code",
   "execution_count": null,
   "id": "9f14d113",
   "metadata": {},
   "outputs": [],
   "source": [
    "#punctuation removal\n",
    "def remove_punctuations(s):\n",
    "    s = re.sub(r'[^\\w\\s]', '', s)\n",
    "    return s"
   ]
  },
  {
   "cell_type": "code",
   "execution_count": 23,
   "id": "a9c79642",
   "metadata": {},
   "outputs": [],
   "source": [
    "for col in ['title', 'text']:\n",
    "    df2[col] = df2[col].apply(remove_punctuations)\n",
    "    df2[col] = df2[col].apply(word_tokenize)"
   ]
  },
  {
   "cell_type": "code",
   "execution_count": 25,
   "id": "f85e04c2",
   "metadata": {},
   "outputs": [],
   "source": [
    "df2['title'] = df2['title'].apply(remove_stopwords)\n",
    "df2['text'] = df2['text'].apply(remove_stopwords)"
   ]
  },
  {
   "cell_type": "code",
   "execution_count": 26,
   "id": "48034e92",
   "metadata": {},
   "outputs": [],
   "source": [
    "import textblob\n",
    "from textblob import TextBlob\n",
    "def subjectivity(text):\n",
    "    blob = TextBlob(text)\n",
    "    return blob.sentiment.subjectivity\n",
    "def list2string(text):\n",
    "    text = \" \".join(wrd for wrd in text)\n",
    "    return text"
   ]
  },
  {
   "cell_type": "code",
   "execution_count": 27,
   "id": "39d4205f",
   "metadata": {},
   "outputs": [],
   "source": [
    "df3 = df2.copy()"
   ]
  },
  {
   "cell_type": "code",
   "execution_count": 29,
   "id": "3e3bffe2",
   "metadata": {},
   "outputs": [
    {
     "data": {
      "text/html": [
       "<div>\n",
       "<style scoped>\n",
       "    .dataframe tbody tr th:only-of-type {\n",
       "        vertical-align: middle;\n",
       "    }\n",
       "\n",
       "    .dataframe tbody tr th {\n",
       "        vertical-align: top;\n",
       "    }\n",
       "\n",
       "    .dataframe thead th {\n",
       "        text-align: right;\n",
       "    }\n",
       "</style>\n",
       "<table border=\"1\" class=\"dataframe\">\n",
       "  <thead>\n",
       "    <tr style=\"text-align: right;\">\n",
       "      <th></th>\n",
       "      <th>title</th>\n",
       "      <th>text</th>\n",
       "      <th>label</th>\n",
       "    </tr>\n",
       "  </thead>\n",
       "  <tbody>\n",
       "    <tr>\n",
       "      <th>17623</th>\n",
       "      <td>western world respect law longer exists</td>\n",
       "      <td>western world respect law longer exists two im...</td>\n",
       "      <td>fake</td>\n",
       "    </tr>\n",
       "    <tr>\n",
       "      <th>61073</th>\n",
       "      <td>watch president obama unleashes trump say terr...</td>\n",
       "      <td>interview cbs face nation sunday morning presi...</td>\n",
       "      <td>fake</td>\n",
       "    </tr>\n",
       "    <tr>\n",
       "      <th>8102</th>\n",
       "      <td>guy punched moldylocks speaks violent antifa f...</td>\n",
       "      <td>nathan domingo founder identity europa guy see...</td>\n",
       "      <td>fake</td>\n",
       "    </tr>\n",
       "    <tr>\n",
       "      <th>67016</th>\n",
       "      <td>say amazon tell customer forced federal govern...</td>\n",
       "      <td>come limiting free speech nothing lawless gove...</td>\n",
       "      <td>fake</td>\n",
       "    </tr>\n",
       "    <tr>\n",
       "      <th>67779</th>\n",
       "      <td>antigun zealot katie couric hit 12 million def...</td>\n",
       "      <td>little miss sunshine fooled lot people year be...</td>\n",
       "      <td>fake</td>\n",
       "    </tr>\n",
       "  </tbody>\n",
       "</table>\n",
       "</div>"
      ],
      "text/plain": [
       "                                                   title  \\\n",
       "17623            western world respect law longer exists   \n",
       "61073  watch president obama unleashes trump say terr...   \n",
       "8102   guy punched moldylocks speaks violent antifa f...   \n",
       "67016  say amazon tell customer forced federal govern...   \n",
       "67779  antigun zealot katie couric hit 12 million def...   \n",
       "\n",
       "                                                    text label  \n",
       "17623  western world respect law longer exists two im...  fake  \n",
       "61073  interview cbs face nation sunday morning presi...  fake  \n",
       "8102   nathan domingo founder identity europa guy see...  fake  \n",
       "67016  come limiting free speech nothing lawless gove...  fake  \n",
       "67779  little miss sunshine fooled lot people year be...  fake  "
      ]
     },
     "execution_count": 29,
     "metadata": {},
     "output_type": "execute_result"
    }
   ],
   "source": [
    "df3[\"text\"] = df3[\"text\"].apply(list2string)\n",
    "df3['title'] = df3['title'].apply(list2string)\n",
    "df3.head()"
   ]
  },
  {
   "cell_type": "code",
   "execution_count": 6,
   "id": "7f53e0f2",
   "metadata": {},
   "outputs": [],
   "source": [
    "# transformer function\n",
    "def removeStopwords(df):\n",
    "    for col in df:\n",
    "        df[col] = df[col].apply(remove_punctuations)\n",
    "        df[col] = df[col].apply(word_tokenize)\n",
    "        df[col] = df[col].apply(remove_stopwords)\n",
    "        df[col] = df[col].apply(list2string)\n",
    "    return df"
   ]
  },
  {
   "cell_type": "code",
   "execution_count": null,
   "id": "36706aa2",
   "metadata": {},
   "outputs": [],
   "source": [
    "### Extracting english"
   ]
  },
  {
   "cell_type": "code",
   "execution_count": 34,
   "id": "94e0281f",
   "metadata": {},
   "outputs": [],
   "source": [
    "def deleteUrl(text):\n",
    "    return re.sub(r'(?i)\\b((?:https?://|www\\d{0,3}[.]|[a-z0-9.\\-]+[.][a-z]{2,4}/)(?:[^\\s()<>]+|\\(([^\\s()<>]+|(\\([^\\s()<>]+\\)))*\\))+(?:\\(([^\\s()<>]+|(\\([^\\s()<>]+\\)))*\\)|[^\\s`!()\\[\\]{};:\\'\".,<>?«»“”‘’]))', '', text)"
   ]
  },
  {
   "cell_type": "code",
   "execution_count": 35,
   "id": "2689436f",
   "metadata": {},
   "outputs": [],
   "source": [
    "# usuwamy linki i puste teksty\n",
    "df3['text'] = df3['text'].apply(deleteUrl)\n",
    "df3['textlength'] = df3['text'].apply(len)"
   ]
  },
  {
   "cell_type": "code",
   "execution_count": 36,
   "id": "e45bde6f",
   "metadata": {},
   "outputs": [],
   "source": [
    "# tworzymy krótszą kolumnę do analizy języka\n",
    "def shortenText(text):\n",
    "    return text[:60]\n",
    "df3['shorttext'] = df3['text'].apply(shortenText)\n"
   ]
  },
  {
   "cell_type": "code",
   "execution_count": null,
   "id": "8f0ce9a3",
   "metadata": {},
   "outputs": [],
   "source": [
    "df3[df3['shorttext'].apply(len) < 10]"
   ]
  },
  {
   "cell_type": "code",
   "execution_count": null,
   "id": "e3d452f0",
   "metadata": {},
   "outputs": [],
   "source": [
    "# usuwamy teksty które mają mniej niż 10 znaków - wszystkie to były typu 'watch this (some url)'\n",
    "df3 = df3[df3['shorttext'].apply(len) > 10]"
   ]
  },
  {
   "cell_type": "code",
   "execution_count": 38,
   "id": "65dff531",
   "metadata": {},
   "outputs": [
    {
     "data": {
      "text/html": [
       "<div>\n",
       "<style scoped>\n",
       "    .dataframe tbody tr th:only-of-type {\n",
       "        vertical-align: middle;\n",
       "    }\n",
       "\n",
       "    .dataframe tbody tr th {\n",
       "        vertical-align: top;\n",
       "    }\n",
       "\n",
       "    .dataframe thead th {\n",
       "        text-align: right;\n",
       "    }\n",
       "</style>\n",
       "<table border=\"1\" class=\"dataframe\">\n",
       "  <thead>\n",
       "    <tr style=\"text-align: right;\">\n",
       "      <th></th>\n",
       "      <th>title</th>\n",
       "      <th>text</th>\n",
       "      <th>label</th>\n",
       "      <th>textlength</th>\n",
       "      <th>shorttext</th>\n",
       "    </tr>\n",
       "  </thead>\n",
       "  <tbody>\n",
       "    <tr>\n",
       "      <th>17623</th>\n",
       "      <td>western world respect law longer exists</td>\n",
       "      <td>western world respect law longer exists two im...</td>\n",
       "      <td>fake</td>\n",
       "      <td>237</td>\n",
       "      <td>western world respect law longer exists two im...</td>\n",
       "    </tr>\n",
       "    <tr>\n",
       "      <th>61073</th>\n",
       "      <td>watch president obama unleashes trump say terr...</td>\n",
       "      <td>interview cbs face nation sunday morning presi...</td>\n",
       "      <td>fake</td>\n",
       "      <td>1025</td>\n",
       "      <td>interview cbs face nation sunday morning presi...</td>\n",
       "    </tr>\n",
       "    <tr>\n",
       "      <th>8102</th>\n",
       "      <td>guy punched moldylocks speaks violent antifa f...</td>\n",
       "      <td>nathan domingo founder identity europa guy see...</td>\n",
       "      <td>fake</td>\n",
       "      <td>1310</td>\n",
       "      <td>nathan domingo founder identity europa guy see...</td>\n",
       "    </tr>\n",
       "    <tr>\n",
       "      <th>67016</th>\n",
       "      <td>say amazon tell customer forced federal govern...</td>\n",
       "      <td>come limiting free speech nothing lawless gove...</td>\n",
       "      <td>fake</td>\n",
       "      <td>940</td>\n",
       "      <td>come limiting free speech nothing lawless gove...</td>\n",
       "    </tr>\n",
       "    <tr>\n",
       "      <th>67779</th>\n",
       "      <td>antigun zealot katie couric hit 12 million def...</td>\n",
       "      <td>little miss sunshine fooled lot people year be...</td>\n",
       "      <td>fake</td>\n",
       "      <td>3260</td>\n",
       "      <td>little miss sunshine fooled lot people year be...</td>\n",
       "    </tr>\n",
       "  </tbody>\n",
       "</table>\n",
       "</div>"
      ],
      "text/plain": [
       "                                                   title  \\\n",
       "17623            western world respect law longer exists   \n",
       "61073  watch president obama unleashes trump say terr...   \n",
       "8102   guy punched moldylocks speaks violent antifa f...   \n",
       "67016  say amazon tell customer forced federal govern...   \n",
       "67779  antigun zealot katie couric hit 12 million def...   \n",
       "\n",
       "                                                    text label  textlength  \\\n",
       "17623  western world respect law longer exists two im...  fake         237   \n",
       "61073  interview cbs face nation sunday morning presi...  fake        1025   \n",
       "8102   nathan domingo founder identity europa guy see...  fake        1310   \n",
       "67016  come limiting free speech nothing lawless gove...  fake         940   \n",
       "67779  little miss sunshine fooled lot people year be...  fake        3260   \n",
       "\n",
       "                                               shorttext  \n",
       "17623  western world respect law longer exists two im...  \n",
       "61073  interview cbs face nation sunday morning presi...  \n",
       "8102   nathan domingo founder identity europa guy see...  \n",
       "67016  come limiting free speech nothing lawless gove...  \n",
       "67779  little miss sunshine fooled lot people year be...  "
      ]
     },
     "execution_count": 38,
     "metadata": {},
     "output_type": "execute_result"
    }
   ],
   "source": [
    "df3.head()"
   ]
  },
  {
   "cell_type": "code",
   "execution_count": 39,
   "id": "7047614e",
   "metadata": {},
   "outputs": [],
   "source": [
    "df4 = df3.copy()"
   ]
  },
  {
   "cell_type": "code",
   "execution_count": 41,
   "id": "a7dd02bb",
   "metadata": {},
   "outputs": [],
   "source": [
    "from langdetect import detect\n",
    "df4['lang'] = df4['shorttext'].apply(detect)"
   ]
  },
  {
   "cell_type": "code",
   "execution_count": 42,
   "id": "07db5ba7",
   "metadata": {},
   "outputs": [],
   "source": [
    "# robimy model który będzie wykrywał po angielsku\n",
    "df4 = df4[df4['lang']=='en']"
   ]
  },
  {
   "cell_type": "code",
   "execution_count": 44,
   "id": "2119bc0c",
   "metadata": {},
   "outputs": [
    {
     "data": {
      "text/html": [
       "<div>\n",
       "<style scoped>\n",
       "    .dataframe tbody tr th:only-of-type {\n",
       "        vertical-align: middle;\n",
       "    }\n",
       "\n",
       "    .dataframe tbody tr th {\n",
       "        vertical-align: top;\n",
       "    }\n",
       "\n",
       "    .dataframe thead th {\n",
       "        text-align: right;\n",
       "    }\n",
       "</style>\n",
       "<table border=\"1\" class=\"dataframe\">\n",
       "  <thead>\n",
       "    <tr style=\"text-align: right;\">\n",
       "      <th></th>\n",
       "      <th>title</th>\n",
       "      <th>text</th>\n",
       "      <th>label</th>\n",
       "    </tr>\n",
       "  </thead>\n",
       "  <tbody>\n",
       "    <tr>\n",
       "      <th>0</th>\n",
       "      <td>western world respect law longer exists</td>\n",
       "      <td>western world respect law longer exists two im...</td>\n",
       "      <td>fake</td>\n",
       "    </tr>\n",
       "    <tr>\n",
       "      <th>1</th>\n",
       "      <td>watch president obama unleashes trump say terr...</td>\n",
       "      <td>interview cbs face nation sunday morning presi...</td>\n",
       "      <td>fake</td>\n",
       "    </tr>\n",
       "    <tr>\n",
       "      <th>2</th>\n",
       "      <td>guy punched moldylocks speaks violent antifa f...</td>\n",
       "      <td>nathan domingo founder identity europa guy see...</td>\n",
       "      <td>fake</td>\n",
       "    </tr>\n",
       "    <tr>\n",
       "      <th>3</th>\n",
       "      <td>say amazon tell customer forced federal govern...</td>\n",
       "      <td>come limiting free speech nothing lawless gove...</td>\n",
       "      <td>fake</td>\n",
       "    </tr>\n",
       "    <tr>\n",
       "      <th>4</th>\n",
       "      <td>antigun zealot katie couric hit 12 million def...</td>\n",
       "      <td>little miss sunshine fooled lot people year be...</td>\n",
       "      <td>fake</td>\n",
       "    </tr>\n",
       "    <tr>\n",
       "      <th>...</th>\n",
       "      <td>...</td>\n",
       "      <td>...</td>\n",
       "      <td>...</td>\n",
       "    </tr>\n",
       "    <tr>\n",
       "      <th>29292</th>\n",
       "      <td>state attorney lied baltimore police probable ...</td>\n",
       "      <td>marilyn mosby held press conference today said...</td>\n",
       "      <td>fake</td>\n",
       "    </tr>\n",
       "    <tr>\n",
       "      <th>29293</th>\n",
       "      <td>russia denies plane killed civilian syria deir...</td>\n",
       "      <td>moscow reuters russia defence ministry denied ...</td>\n",
       "      <td>true</td>\n",
       "    </tr>\n",
       "    <tr>\n",
       "      <th>29294</th>\n",
       "      <td>hungary wall versus u wall</td>\n",
       "      <td>oped catherine j frompovich currently european...</td>\n",
       "      <td>fake</td>\n",
       "    </tr>\n",
       "    <tr>\n",
       "      <th>29295</th>\n",
       "      <td>pastor caught trump spiritual advisor stealing...</td>\n",
       "      <td>seems donald trump spiritual advisor exactly e...</td>\n",
       "      <td>fake</td>\n",
       "    </tr>\n",
       "    <tr>\n",
       "      <th>29296</th>\n",
       "      <td>boom senator lindsey graham reason believe cli...</td>\n",
       "      <td>senator lindsey graham reason believe dnc hill...</td>\n",
       "      <td>fake</td>\n",
       "    </tr>\n",
       "  </tbody>\n",
       "</table>\n",
       "<p>29297 rows × 3 columns</p>\n",
       "</div>"
      ],
      "text/plain": [
       "                                                   title  \\\n",
       "0                western world respect law longer exists   \n",
       "1      watch president obama unleashes trump say terr...   \n",
       "2      guy punched moldylocks speaks violent antifa f...   \n",
       "3      say amazon tell customer forced federal govern...   \n",
       "4      antigun zealot katie couric hit 12 million def...   \n",
       "...                                                  ...   \n",
       "29292  state attorney lied baltimore police probable ...   \n",
       "29293  russia denies plane killed civilian syria deir...   \n",
       "29294                         hungary wall versus u wall   \n",
       "29295  pastor caught trump spiritual advisor stealing...   \n",
       "29296  boom senator lindsey graham reason believe cli...   \n",
       "\n",
       "                                                    text label  \n",
       "0      western world respect law longer exists two im...  fake  \n",
       "1      interview cbs face nation sunday morning presi...  fake  \n",
       "2      nathan domingo founder identity europa guy see...  fake  \n",
       "3      come limiting free speech nothing lawless gove...  fake  \n",
       "4      little miss sunshine fooled lot people year be...  fake  \n",
       "...                                                  ...   ...  \n",
       "29292  marilyn mosby held press conference today said...  fake  \n",
       "29293  moscow reuters russia defence ministry denied ...  true  \n",
       "29294  oped catherine j frompovich currently european...  fake  \n",
       "29295  seems donald trump spiritual advisor exactly e...  fake  \n",
       "29296  senator lindsey graham reason believe dnc hill...  fake  \n",
       "\n",
       "[29297 rows x 3 columns]"
      ]
     },
     "execution_count": 44,
     "metadata": {},
     "output_type": "execute_result"
    }
   ],
   "source": [
    "df4 = df4[['title', 'text', 'label']].reset_index(drop=True)\n",
    "df4"
   ]
  },
  {
   "cell_type": "code",
   "execution_count": 12,
   "id": "5c7713a9",
   "metadata": {},
   "outputs": [],
   "source": [
    "#transformer function\n",
    "def dropLanguages(df):\n",
    "    df['text'] = df['text'].apply(deleteUrl)\n",
    "    df['shorttext'] = df['text'].apply(shortenText)\n",
    "    df = df[df['shorttext'].apply(len) > 10]\n",
    "    df['lang'] = df['shorttext'].apply(detect)\n",
    "    df = df[df['lang']=='en']\n",
    "    df = df.drop(columns=['shorttext', 'lang'])"
   ]
  },
  {
   "cell_type": "code",
   "execution_count": 45,
   "id": "3fbdb0e8",
   "metadata": {},
   "outputs": [],
   "source": [
    "# żeby zapisać dane\n",
    "df4.to_csv('train_data.csv', index=False)"
   ]
  },
  {
   "cell_type": "code",
   "execution_count": 46,
   "id": "a9c522d8",
   "metadata": {},
   "outputs": [],
   "source": [
    "X_train2 = df4[['title', 'text']]"
   ]
  },
  {
   "cell_type": "code",
   "execution_count": null,
   "id": "d85f837d",
   "metadata": {},
   "outputs": [],
   "source": [
    "# Czy łączyć title i tekst? jeśli tak to przed czy po tych transformerach? A może wgl na samym początku? "
   ]
  },
  {
   "cell_type": "code",
   "execution_count": 50,
   "id": "7f08f86e",
   "metadata": {},
   "outputs": [],
   "source": [
    "# Bag of words - liczba wystąpień każdego słowa w danym tekście\n",
    "from sklearn.feature_extraction.text import CountVectorizer, TfidfTransformer\n",
    "count_vect = CountVectorizer(ngram_range=(1,3))\n",
    "X_train_counts = count_vect.fit_transform(X_train2['text'])"
   ]
  },
  {
   "cell_type": "code",
   "execution_count": 53,
   "id": "7aaac33d",
   "metadata": {},
   "outputs": [],
   "source": [
    "# Zamiana częstości w częstotliwość wystąpień\n",
    "tfidf_transformer = TfidfTransformer()\n",
    "X_train_tfidf = tfidf_transformer.fit_transform(X_train_counts)"
   ]
  },
  {
   "cell_type": "code",
   "execution_count": 52,
   "id": "9841ed3f",
   "metadata": {},
   "outputs": [
    {
     "data": {
      "text/plain": [
       "(29297, 10089649)"
      ]
     },
     "execution_count": 52,
     "metadata": {},
     "output_type": "execute_result"
    }
   ],
   "source": [
    "X_train_tfidf.shape"
   ]
  },
  {
   "cell_type": "markdown",
   "id": "4696ddf8",
   "metadata": {},
   "source": [
    "## Pipeline"
   ]
  },
  {
   "cell_type": "code",
   "execution_count": null,
   "id": "00e2560f",
   "metadata": {},
   "outputs": [],
   "source": [
    "from sklearn.preprocessing import FunctionTransformer\n",
    "from sklearn.pipeline import Pipeline\n",
    "\n",
    "na_transformer = FunctionTransformer(handleNa)\n",
    "stopwords_transformer = FunctionTransformer(removeStopwords)\n",
    "language_transformer = FunctionTransformer(dropLanguages)\n",
    "\n",
    "pipe = Pipeline([\n",
    "    (\"na\", na_transformer),\n",
    "    (\"stopwords\", stopwords_transformer),\n",
    "    (\"language\", language_transformer),\n",
    "    ('vectorizer', CountVectorizer()),\n",
    "    ('tfidf', TfidfTransformer()),\n",
    "])"
   ]
  }
 ],
 "metadata": {
  "kernelspec": {
   "display_name": "Python 3 (ipykernel)",
   "language": "python",
   "name": "python3"
  },
  "language_info": {
   "codemirror_mode": {
    "name": "ipython",
    "version": 3
   },
   "file_extension": ".py",
   "mimetype": "text/x-python",
   "name": "python",
   "nbconvert_exporter": "python",
   "pygments_lexer": "ipython3",
   "version": "3.9.13"
  }
 },
 "nbformat": 4,
 "nbformat_minor": 5
}
