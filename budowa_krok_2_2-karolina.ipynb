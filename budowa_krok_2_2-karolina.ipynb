{
 "cells": [
  {
   "cell_type": "markdown",
   "id": "ce247929",
   "metadata": {},
   "source": [
    "# Fakenews detection\n",
    "Karolina Mączka, Tymoteusz Urban"
   ]
  },
  {
   "cell_type": "code",
   "execution_count": 1,
   "id": "93248206",
   "metadata": {
    "scrolled": true
   },
   "outputs": [
    {
     "name": "stderr",
     "output_type": "stream",
     "text": [
      "[nltk_data] Downloading package stopwords to\n",
      "[nltk_data]     C:\\Users\\tymek\\AppData\\Roaming\\nltk_data...\n",
      "[nltk_data]   Package stopwords is already up-to-date!\n",
      "[nltk_data] Downloading package punkt to\n",
      "[nltk_data]     C:\\Users\\tymek\\AppData\\Roaming\\nltk_data...\n",
      "[nltk_data]   Package punkt is already up-to-date!\n",
      "[nltk_data] Downloading package wordnet to\n",
      "[nltk_data]     C:\\Users\\tymek\\AppData\\Roaming\\nltk_data...\n",
      "[nltk_data]   Package wordnet is already up-to-date!\n",
      "[nltk_data] Downloading package omw-1.4 to\n",
      "[nltk_data]     C:\\Users\\tymek\\AppData\\Roaming\\nltk_data...\n",
      "[nltk_data]   Package omw-1.4 is already up-to-date!\n"
     ]
    }
   ],
   "source": [
    "import pandas as pd\n",
    "import numpy as np\n",
    "import matplotlib.pyplot as plt\n",
    "import sklearn\n",
    "from sklearn.model_selection import train_test_split\n",
    "from sklearn.feature_extraction.text import TfidfVectorizer\n",
    "from sklearn.feature_extraction.text import CountVectorizer, TfidfTransformer\n",
    "import nltk\n",
    "from nltk.tokenize import sent_tokenize, word_tokenize\n",
    "from nltk.corpus import stopwords\n",
    "from nltk.stem import WordNetLemmatizer\n",
    "nltk.download('stopwords')\n",
    "nltk.download('punkt')\n",
    "nltk.download('wordnet')\n",
    "nltk.download('omw-1.4')\n",
    "import re\n",
    "from wordcloud import WordCloud\n",
    "from langdetect import detect\n",
    "from langdetect import DetectorFactory\n",
    "DetectorFactory.seed = 0"
   ]
  },
  {
   "cell_type": "code",
   "execution_count": 2,
   "id": "f665a560",
   "metadata": {},
   "outputs": [],
   "source": [
    "df=pd.read_csv('PreProcessedData.csv', header=0, sep=',', index_col=False)"
   ]
  },
  {
   "cell_type": "code",
   "execution_count": 3,
   "id": "53b2da86",
   "metadata": {},
   "outputs": [
    {
     "data": {
      "text/html": [
       "<div>\n",
       "<style scoped>\n",
       "    .dataframe tbody tr th:only-of-type {\n",
       "        vertical-align: middle;\n",
       "    }\n",
       "\n",
       "    .dataframe tbody tr th {\n",
       "        vertical-align: top;\n",
       "    }\n",
       "\n",
       "    .dataframe thead th {\n",
       "        text-align: right;\n",
       "    }\n",
       "</style>\n",
       "<table border=\"1\" class=\"dataframe\">\n",
       "  <thead>\n",
       "    <tr style=\"text-align: right;\">\n",
       "      <th></th>\n",
       "      <th>Unnamed: 0</th>\n",
       "      <th>title</th>\n",
       "      <th>text</th>\n",
       "      <th>Ground Label</th>\n",
       "    </tr>\n",
       "  </thead>\n",
       "  <tbody>\n",
       "    <tr>\n",
       "      <th>0</th>\n",
       "      <td>0</td>\n",
       "      <td>Ann Coulter Make Believes She Has ‘Gay Friend...</td>\n",
       "      <td>It s hard to believe, but Donald Trump does ha...</td>\n",
       "      <td>fake</td>\n",
       "    </tr>\n",
       "    <tr>\n",
       "      <th>1</th>\n",
       "      <td>1</td>\n",
       "      <td>Rating: Moody‘s verbessert Ausblick für Russla...</td>\n",
       "      <td>bankensektor Der russische Staat werde die Ban...</td>\n",
       "      <td>fake</td>\n",
       "    </tr>\n",
       "    <tr>\n",
       "      <th>2</th>\n",
       "      <td>2</td>\n",
       "      <td>CAN WE ADD DIRTY MONEY ‘LAUNDERING’ To The Oba...</td>\n",
       "      <td>A member of the House Intelligence Committee i...</td>\n",
       "      <td>fake</td>\n",
       "    </tr>\n",
       "    <tr>\n",
       "      <th>3</th>\n",
       "      <td>3</td>\n",
       "      <td>Republicans on Obamacare repeal: 'We're going ...</td>\n",
       "      <td>WASHINGTON (Reuters) - House of Representative...</td>\n",
       "      <td>true</td>\n",
       "    </tr>\n",
       "    <tr>\n",
       "      <th>4</th>\n",
       "      <td>4</td>\n",
       "      <td>Trump, on possible DACA deal, says border wall...</td>\n",
       "      <td>WASHINGTON (Reuters) - U.S. President Donald T...</td>\n",
       "      <td>true</td>\n",
       "    </tr>\n",
       "  </tbody>\n",
       "</table>\n",
       "</div>"
      ],
      "text/plain": [
       "   Unnamed: 0                                              title  \\\n",
       "0           0   Ann Coulter Make Believes She Has ‘Gay Friend...   \n",
       "1           1  Rating: Moody‘s verbessert Ausblick für Russla...   \n",
       "2           2  CAN WE ADD DIRTY MONEY ‘LAUNDERING’ To The Oba...   \n",
       "3           3  Republicans on Obamacare repeal: 'We're going ...   \n",
       "4           4  Trump, on possible DACA deal, says border wall...   \n",
       "\n",
       "                                                text Ground Label  \n",
       "0  It s hard to believe, but Donald Trump does ha...         fake  \n",
       "1  bankensektor Der russische Staat werde die Ban...         fake  \n",
       "2  A member of the House Intelligence Committee i...         fake  \n",
       "3  WASHINGTON (Reuters) - House of Representative...         true  \n",
       "4  WASHINGTON (Reuters) - U.S. President Donald T...         true  "
      ]
     },
     "execution_count": 3,
     "metadata": {},
     "output_type": "execute_result"
    }
   ],
   "source": [
    "df.head()"
   ]
  },
  {
   "cell_type": "code",
   "execution_count": 4,
   "id": "2784ed96",
   "metadata": {},
   "outputs": [
    {
     "data": {
      "text/html": [
       "<div>\n",
       "<style scoped>\n",
       "    .dataframe tbody tr th:only-of-type {\n",
       "        vertical-align: middle;\n",
       "    }\n",
       "\n",
       "    .dataframe tbody tr th {\n",
       "        vertical-align: top;\n",
       "    }\n",
       "\n",
       "    .dataframe thead th {\n",
       "        text-align: right;\n",
       "    }\n",
       "</style>\n",
       "<table border=\"1\" class=\"dataframe\">\n",
       "  <thead>\n",
       "    <tr style=\"text-align: right;\">\n",
       "      <th></th>\n",
       "      <th>title</th>\n",
       "      <th>text</th>\n",
       "      <th>label</th>\n",
       "    </tr>\n",
       "  </thead>\n",
       "  <tbody>\n",
       "    <tr>\n",
       "      <th>0</th>\n",
       "      <td>Ann Coulter Make Believes She Has ‘Gay Friend...</td>\n",
       "      <td>It s hard to believe, but Donald Trump does ha...</td>\n",
       "      <td>fake</td>\n",
       "    </tr>\n",
       "    <tr>\n",
       "      <th>1</th>\n",
       "      <td>Rating: Moody‘s verbessert Ausblick für Russla...</td>\n",
       "      <td>bankensektor Der russische Staat werde die Ban...</td>\n",
       "      <td>fake</td>\n",
       "    </tr>\n",
       "    <tr>\n",
       "      <th>2</th>\n",
       "      <td>CAN WE ADD DIRTY MONEY ‘LAUNDERING’ To The Oba...</td>\n",
       "      <td>A member of the House Intelligence Committee i...</td>\n",
       "      <td>fake</td>\n",
       "    </tr>\n",
       "    <tr>\n",
       "      <th>3</th>\n",
       "      <td>Republicans on Obamacare repeal: 'We're going ...</td>\n",
       "      <td>WASHINGTON (Reuters) - House of Representative...</td>\n",
       "      <td>true</td>\n",
       "    </tr>\n",
       "    <tr>\n",
       "      <th>4</th>\n",
       "      <td>Trump, on possible DACA deal, says border wall...</td>\n",
       "      <td>WASHINGTON (Reuters) - U.S. President Donald T...</td>\n",
       "      <td>true</td>\n",
       "    </tr>\n",
       "  </tbody>\n",
       "</table>\n",
       "</div>"
      ],
      "text/plain": [
       "                                               title  \\\n",
       "0   Ann Coulter Make Believes She Has ‘Gay Friend...   \n",
       "1  Rating: Moody‘s verbessert Ausblick für Russla...   \n",
       "2  CAN WE ADD DIRTY MONEY ‘LAUNDERING’ To The Oba...   \n",
       "3  Republicans on Obamacare repeal: 'We're going ...   \n",
       "4  Trump, on possible DACA deal, says border wall...   \n",
       "\n",
       "                                                text label  \n",
       "0  It s hard to believe, but Donald Trump does ha...  fake  \n",
       "1  bankensektor Der russische Staat werde die Ban...  fake  \n",
       "2  A member of the House Intelligence Committee i...  fake  \n",
       "3  WASHINGTON (Reuters) - House of Representative...  true  \n",
       "4  WASHINGTON (Reuters) - U.S. President Donald T...  true  "
      ]
     },
     "execution_count": 4,
     "metadata": {},
     "output_type": "execute_result"
    }
   ],
   "source": [
    "# Remove index column and rename Gound Label for easier use\n",
    "df = df[['title', 'text', 'Ground Label']]\n",
    "df.rename(columns={'Ground Label': 'label'}, inplace=True)\n",
    "df.head()"
   ]
  },
  {
   "cell_type": "markdown",
   "id": "93af8965",
   "metadata": {},
   "source": [
    "## Train test split"
   ]
  },
  {
   "cell_type": "code",
   "execution_count": 5,
   "id": "38a2891c",
   "metadata": {},
   "outputs": [],
   "source": [
    "# Splitting data into training and testing sets\n",
    "X_rest, X_test, y_rest, y_test = train_test_split(df[['title', 'text']], df['label'], test_size=0.30, random_state=42)"
   ]
  },
  {
   "cell_type": "code",
   "execution_count": 6,
   "id": "15a8c42e",
   "metadata": {},
   "outputs": [
    {
     "data": {
      "text/plain": [
       "fake    29459\n",
       "true    18872\n",
       "Name: label, dtype: int64"
      ]
     },
     "execution_count": 6,
     "metadata": {},
     "output_type": "execute_result"
    }
   ],
   "source": [
    "y_rest.value_counts()"
   ]
  },
  {
   "cell_type": "code",
   "execution_count": 7,
   "id": "73ceaa3f",
   "metadata": {},
   "outputs": [],
   "source": [
    "X_train, X_validate, y_train, y_validate = train_test_split(X_rest, y_rest, test_size=0.30, random_state=42)"
   ]
  },
  {
   "cell_type": "code",
   "execution_count": 8,
   "id": "c2d07c00",
   "metadata": {},
   "outputs": [
    {
     "name": "stdout",
     "output_type": "stream",
     "text": [
      "fake    20645\n",
      "true    13186\n",
      "Name: label, dtype: int64\n",
      "fake    8814\n",
      "true    5686\n",
      "Name: label, dtype: int64\n"
     ]
    }
   ],
   "source": [
    "print(y_train.value_counts())\n",
    "print(y_validate.value_counts())"
   ]
  },
  {
   "cell_type": "markdown",
   "id": "c60f19fc",
   "metadata": {},
   "source": [
    "The ratio of false and true is the same everywhere, so we can assume that this is a good separation of data"
   ]
  },
  {
   "cell_type": "code",
   "execution_count": 9,
   "id": "604901e9",
   "metadata": {},
   "outputs": [],
   "source": [
    "train_df = pd.concat([X_train, y_train], axis=1).reset_index(drop=True)\n",
    "train_df.to_csv('training_data.csv', index=False)"
   ]
  },
  {
   "cell_type": "code",
   "execution_count": 10,
   "id": "88da294f",
   "metadata": {},
   "outputs": [],
   "source": [
    "testing_df = pd.concat([X_test, y_test], axis=1)\n",
    "testing_df.to_csv('testing_data.csv', index=False)"
   ]
  },
  {
   "cell_type": "code",
   "execution_count": 11,
   "id": "21794ee3",
   "metadata": {
    "scrolled": false
   },
   "outputs": [],
   "source": [
    "validate_df = pd.concat([X_validate, y_validate], axis=1)\n",
    "validate_df.to_csv('fakenws_validation.csv', index=False)"
   ]
  },
  {
   "cell_type": "code",
   "execution_count": 9,
   "id": "176fc409",
   "metadata": {
    "scrolled": true
   },
   "outputs": [],
   "source": [
    "df2 = pd.concat([X_train, y_train], axis=1).reset_index(drop=True)"
   ]
  },
  {
   "cell_type": "markdown",
   "id": "f56bfd9f",
   "metadata": {},
   "source": [
    "## Getting to know the data"
   ]
  },
  {
   "cell_type": "code",
   "execution_count": 10,
   "id": "17ffa716",
   "metadata": {},
   "outputs": [
    {
     "data": {
      "text/html": [
       "<div>\n",
       "<style scoped>\n",
       "    .dataframe tbody tr th:only-of-type {\n",
       "        vertical-align: middle;\n",
       "    }\n",
       "\n",
       "    .dataframe tbody tr th {\n",
       "        vertical-align: top;\n",
       "    }\n",
       "\n",
       "    .dataframe thead th {\n",
       "        text-align: right;\n",
       "    }\n",
       "</style>\n",
       "<table border=\"1\" class=\"dataframe\">\n",
       "  <thead>\n",
       "    <tr style=\"text-align: right;\">\n",
       "      <th></th>\n",
       "      <th>title</th>\n",
       "      <th>text</th>\n",
       "      <th>label</th>\n",
       "    </tr>\n",
       "  </thead>\n",
       "  <tbody>\n",
       "    <tr>\n",
       "      <th>0</th>\n",
       "      <td>In the Western World Respect for Law No Longer...</td>\n",
       "      <td>In the Western World Respect for Law No Longer...</td>\n",
       "      <td>fake</td>\n",
       "    </tr>\n",
       "    <tr>\n",
       "      <th>1</th>\n",
       "      <td>WATCH: President Obama Unleashes On Trump, Sa...</td>\n",
       "      <td>During an interview on CBS s Face the Nation S...</td>\n",
       "      <td>fake</td>\n",
       "    </tr>\n",
       "    <tr>\n",
       "      <th>2</th>\n",
       "      <td>THE GUY WHO Punched “Moldylocks” Speaks Out Ab...</td>\n",
       "      <td>Nathan Domingo is the founder of  Identity Eur...</td>\n",
       "      <td>fake</td>\n",
       "    </tr>\n",
       "    <tr>\n",
       "      <th>3</th>\n",
       "      <td>SAY WHAT? AMAZON TELLS CUSTOMER THEY WERE FORC...</td>\n",
       "      <td>When it comes to limiting our free speech, not...</td>\n",
       "      <td>fake</td>\n",
       "    </tr>\n",
       "    <tr>\n",
       "      <th>4</th>\n",
       "      <td>ANTI-GUN Zealot KATIE COURIC Hit With $12 MILL...</td>\n",
       "      <td>Little Miss Sunshine  has fooled a lot of peo...</td>\n",
       "      <td>fake</td>\n",
       "    </tr>\n",
       "  </tbody>\n",
       "</table>\n",
       "</div>"
      ],
      "text/plain": [
       "                                               title  \\\n",
       "0  In the Western World Respect for Law No Longer...   \n",
       "1   WATCH: President Obama Unleashes On Trump, Sa...   \n",
       "2  THE GUY WHO Punched “Moldylocks” Speaks Out Ab...   \n",
       "3  SAY WHAT? AMAZON TELLS CUSTOMER THEY WERE FORC...   \n",
       "4  ANTI-GUN Zealot KATIE COURIC Hit With $12 MILL...   \n",
       "\n",
       "                                                text label  \n",
       "0  In the Western World Respect for Law No Longer...  fake  \n",
       "1  During an interview on CBS s Face the Nation S...  fake  \n",
       "2  Nathan Domingo is the founder of  Identity Eur...  fake  \n",
       "3  When it comes to limiting our free speech, not...  fake  \n",
       "4   Little Miss Sunshine  has fooled a lot of peo...  fake  "
      ]
     },
     "execution_count": 10,
     "metadata": {},
     "output_type": "execute_result"
    }
   ],
   "source": [
    "df2.head()"
   ]
  },
  {
   "cell_type": "code",
   "execution_count": 11,
   "id": "55d2e697",
   "metadata": {},
   "outputs": [
    {
     "name": "stdout",
     "output_type": "stream",
     "text": [
      "<class 'pandas.core.frame.DataFrame'>\n",
      "RangeIndex: 33831 entries, 0 to 33830\n",
      "Data columns (total 3 columns):\n",
      " #   Column  Non-Null Count  Dtype \n",
      "---  ------  --------------  ----- \n",
      " 0   title   33497 non-null  object\n",
      " 1   text    33800 non-null  object\n",
      " 2   label   33831 non-null  object\n",
      "dtypes: object(3)\n",
      "memory usage: 793.0+ KB\n"
     ]
    }
   ],
   "source": [
    "df2.info()"
   ]
  },
  {
   "cell_type": "markdown",
   "id": "eb2442e2",
   "metadata": {},
   "source": [
    "\n",
    "\n",
    "## Data Preprocessing"
   ]
  },
  {
   "cell_type": "markdown",
   "id": "8fd93a04",
   "metadata": {},
   "source": [
    "### Encoding"
   ]
  },
  {
   "cell_type": "code",
   "execution_count": 12,
   "id": "16eddf9f",
   "metadata": {},
   "outputs": [],
   "source": [
    "# Converting fake and true into numeric values\n",
    "df2.loc[df2[\"label\"] == \"fake\",\"label\"] = 0\n",
    "df2.loc[df2[\"label\"] == \"true\",\"label\"] = 1"
   ]
  },
  {
   "cell_type": "code",
   "execution_count": 13,
   "id": "e98600df",
   "metadata": {},
   "outputs": [],
   "source": [
    "# Before pipeline function\n",
    "def encodeLabels(df):\n",
    "    df.loc[df[\"label\"] == \"fake\",\"label\"] = 0\n",
    "    df.loc[df[\"label\"] == \"true\",\"label\"] = 1\n",
    "    return df"
   ]
  },
  {
   "cell_type": "markdown",
   "id": "3ad72669",
   "metadata": {},
   "source": [
    "### NaNs"
   ]
  },
  {
   "cell_type": "code",
   "execution_count": 14,
   "id": "f998743c",
   "metadata": {
    "scrolled": true
   },
   "outputs": [
    {
     "name": "stdout",
     "output_type": "stream",
     "text": [
      "<class 'pandas.core.frame.DataFrame'>\n",
      "RangeIndex: 33831 entries, 0 to 33830\n",
      "Data columns (total 3 columns):\n",
      " #   Column  Non-Null Count  Dtype \n",
      "---  ------  --------------  ----- \n",
      " 0   title   33831 non-null  object\n",
      " 1   text    33831 non-null  object\n",
      " 2   label   33831 non-null  int64 \n",
      "dtypes: int64(1), object(2)\n",
      "memory usage: 793.0+ KB\n"
     ]
    }
   ],
   "source": [
    "# In order to perform operations on data we have to convert Nans into empty strings\n",
    "df2.fillna('', inplace=True)\n",
    "df2.info()"
   ]
  },
  {
   "cell_type": "code",
   "execution_count": 15,
   "id": "0e163557",
   "metadata": {},
   "outputs": [],
   "source": [
    "# transformer function\n",
    "def handleNa(df):\n",
    "    df.fillna('', inplace=True)\n",
    "    print('NaNs replaced')\n",
    "    return df"
   ]
  },
  {
   "cell_type": "markdown",
   "id": "76f82217",
   "metadata": {},
   "source": [
    "### Combine columns"
   ]
  },
  {
   "cell_type": "markdown",
   "id": "90e5df98",
   "metadata": {},
   "source": [
    "Because of the fact that we will be analysing only words (or sequences of them) we are combining title and text columns - there will be no difference for our model which column those words come from"
   ]
  },
  {
   "cell_type": "code",
   "execution_count": 16,
   "id": "4b426020",
   "metadata": {},
   "outputs": [
    {
     "data": {
      "text/plain": [
       "title    THE GUY WHO Punched “Moldylocks” Speaks Out Ab...\n",
       "text     Nathan Domingo is the founder of  Identity Eur...\n",
       "label                                                    0\n",
       "Name: 2, dtype: object"
      ]
     },
     "execution_count": 16,
     "metadata": {},
     "output_type": "execute_result"
    }
   ],
   "source": [
    "df2.loc[2]"
   ]
  },
  {
   "cell_type": "code",
   "execution_count": 17,
   "id": "149765bc",
   "metadata": {},
   "outputs": [],
   "source": [
    "df2['text'] = df2[['title', 'text']].apply(\" \".join, axis=1)"
   ]
  },
  {
   "cell_type": "code",
   "execution_count": 18,
   "id": "b3b235e7",
   "metadata": {},
   "outputs": [
    {
     "data": {
      "text/plain": [
       "'THE GUY WHO Punched “Moldylocks” Speaks Out About Violent Antifa Female With A Bottle [VIDEO] Nathan Domingo is the founder of  Identity Europa  and is the guy who was seen by millions of viewers punching a female Antifa thug the media tried to portray as a helpless woman that just happened to be in the area when fighting broke out at a free speech rally in Berkeley, CA on April 16th.The last time these two group clashed, the Trump supporters were seriously outnumbered. This time was a different story. Trump supporters came prepared for the unprovoked attacks of these hate groups and took them to task. With all the violence that happened yesterday, leftist media outlets seemed to be obsessed with reporting on the video that was taken of an alleged Trump supporter who punched an antifa female who was part of the violent group  Oak Roots Collective  that traveled to Berkeley to confront Trump supporters and shut down their right to free speech.Here s the video. At the 18 second mark you can see the woman cock her arm back as though she is about to swing her arm at someone. When she brings her arm forward, that is where she gets hit. We are NOT condoning the hitting of a woman by a man, but if she had a bottle in her hand and was about to hit someone that changes everything:CBS San Fransisco Bay Area news interviewed anarchist Louise Rosealma, who along with her boyfriend is a member of the Oak Roots Collective. Here s a sample of the violence they promote on their Facebook page. This is how these people (that should be labeled as domestic terrorists) see themselves. These anarchists live in a world where it s okay to act with violence against law enforcement and innocent people who don t agree with their political views:Here s citizen journalist Tim Pool talking to the Antifa female who was hit. When he asks her if she thinks it s okay that Antifa rioters threw M-80 s at people on the Trump side, her response was,  Well, the revolution isn t f*cking easy!  (This video was taken after she was hit) Apparently she was correct about one thing For anyone wondering what an  identiatrian  is, here is a screen shot from the Identity Evropa website:'"
      ]
     },
     "execution_count": 18,
     "metadata": {},
     "output_type": "execute_result"
    }
   ],
   "source": [
    "df2.loc[2]['text']"
   ]
  },
  {
   "cell_type": "code",
   "execution_count": 19,
   "id": "c5188aff",
   "metadata": {},
   "outputs": [],
   "source": [
    "df2 = df2.drop(columns='title')"
   ]
  },
  {
   "cell_type": "code",
   "execution_count": 20,
   "id": "166cc472",
   "metadata": {},
   "outputs": [
    {
     "data": {
      "text/html": [
       "<div>\n",
       "<style scoped>\n",
       "    .dataframe tbody tr th:only-of-type {\n",
       "        vertical-align: middle;\n",
       "    }\n",
       "\n",
       "    .dataframe tbody tr th {\n",
       "        vertical-align: top;\n",
       "    }\n",
       "\n",
       "    .dataframe thead th {\n",
       "        text-align: right;\n",
       "    }\n",
       "</style>\n",
       "<table border=\"1\" class=\"dataframe\">\n",
       "  <thead>\n",
       "    <tr style=\"text-align: right;\">\n",
       "      <th></th>\n",
       "      <th>text</th>\n",
       "      <th>label</th>\n",
       "    </tr>\n",
       "  </thead>\n",
       "  <tbody>\n",
       "    <tr>\n",
       "      <th>0</th>\n",
       "      <td>In the Western World Respect for Law No Longer...</td>\n",
       "      <td>0</td>\n",
       "    </tr>\n",
       "    <tr>\n",
       "      <th>1</th>\n",
       "      <td>WATCH: President Obama Unleashes On Trump, Sa...</td>\n",
       "      <td>0</td>\n",
       "    </tr>\n",
       "    <tr>\n",
       "      <th>2</th>\n",
       "      <td>THE GUY WHO Punched “Moldylocks” Speaks Out Ab...</td>\n",
       "      <td>0</td>\n",
       "    </tr>\n",
       "    <tr>\n",
       "      <th>3</th>\n",
       "      <td>SAY WHAT? AMAZON TELLS CUSTOMER THEY WERE FORC...</td>\n",
       "      <td>0</td>\n",
       "    </tr>\n",
       "    <tr>\n",
       "      <th>4</th>\n",
       "      <td>ANTI-GUN Zealot KATIE COURIC Hit With $12 MILL...</td>\n",
       "      <td>0</td>\n",
       "    </tr>\n",
       "  </tbody>\n",
       "</table>\n",
       "</div>"
      ],
      "text/plain": [
       "                                                text  label\n",
       "0  In the Western World Respect for Law No Longer...      0\n",
       "1   WATCH: President Obama Unleashes On Trump, Sa...      0\n",
       "2  THE GUY WHO Punched “Moldylocks” Speaks Out Ab...      0\n",
       "3  SAY WHAT? AMAZON TELLS CUSTOMER THEY WERE FORC...      0\n",
       "4  ANTI-GUN Zealot KATIE COURIC Hit With $12 MILL...      0"
      ]
     },
     "execution_count": 20,
     "metadata": {},
     "output_type": "execute_result"
    }
   ],
   "source": [
    "df2.head()"
   ]
  },
  {
   "cell_type": "code",
   "execution_count": 21,
   "id": "dd65cfee",
   "metadata": {},
   "outputs": [],
   "source": [
    "# transformer function\n",
    "def combineColumns(df):\n",
    "    df['text'] = df[['title', 'text']].apply(\" \".join, axis=1)\n",
    "    df = df.drop(columns='title')\n",
    "    print('Columns combined')\n",
    "    return df"
   ]
  },
  {
   "cell_type": "markdown",
   "id": "987616fe",
   "metadata": {},
   "source": [
    "### Outliers"
   ]
  },
  {
   "cell_type": "code",
   "execution_count": 22,
   "id": "ec0eeb34",
   "metadata": {},
   "outputs": [
    {
     "data": {
      "text/plain": [
       "(array([3.3423e+04, 3.3800e+02, 4.4000e+01, 1.4000e+01, 2.0000e+00,\n",
       "        1.0000e+00, 5.0000e+00, 1.0000e+00, 2.0000e+00, 1.0000e+00]),\n",
       " array([5.000000e+00, 1.434840e+04, 2.869180e+04, 4.303520e+04,\n",
       "        5.737860e+04, 7.172200e+04, 8.606540e+04, 1.004088e+05,\n",
       "        1.147522e+05, 1.290956e+05, 1.434390e+05]),\n",
       " <BarContainer object of 10 artists>)"
      ]
     },
     "execution_count": 22,
     "metadata": {},
     "output_type": "execute_result"
    },
    {
     "data": {
      "image/png": "[encoded data removed]",
      "text/plain": [
       "<Figure size 432x288 with 1 Axes>"
      ]
     },
     "metadata": {
      "needs_background": "light"
     },
     "output_type": "display_data"
    }
   ],
   "source": [
    "df2['textlength'] = df2['text'].apply(len)\n",
    "plt.hist(df2['textlength'])"
   ]
  },
  {
   "cell_type": "code",
   "execution_count": 23,
   "id": "d14dca82",
   "metadata": {
    "scrolled": true
   },
   "outputs": [
    {
     "name": "stdout",
     "output_type": "stream",
     "text": [
      "text          32\n",
      "label         32\n",
      "textlength    32\n",
      "dtype: int64\n"
     ]
    },
    {
     "data": {
      "text/html": [
       "<div>\n",
       "<style scoped>\n",
       "    .dataframe tbody tr th:only-of-type {\n",
       "        vertical-align: middle;\n",
       "    }\n",
       "\n",
       "    .dataframe tbody tr th {\n",
       "        vertical-align: top;\n",
       "    }\n",
       "\n",
       "    .dataframe thead th {\n",
       "        text-align: right;\n",
       "    }\n",
       "</style>\n",
       "<table border=\"1\" class=\"dataframe\">\n",
       "  <thead>\n",
       "    <tr style=\"text-align: right;\">\n",
       "      <th></th>\n",
       "      <th>text</th>\n",
       "      <th>label</th>\n",
       "      <th>textlength</th>\n",
       "    </tr>\n",
       "  </thead>\n",
       "  <tbody>\n",
       "    <tr>\n",
       "      <th>720</th>\n",
       "      <td>Re: Why Are So Many People Choosing To Leave T...</td>\n",
       "      <td>0</td>\n",
       "      <td>115924</td>\n",
       "    </tr>\n",
       "    <tr>\n",
       "      <th>1612</th>\n",
       "      <td>Re: Why Is Obama Threatening Russia With World...</td>\n",
       "      <td>0</td>\n",
       "      <td>97429</td>\n",
       "    </tr>\n",
       "    <tr>\n",
       "      <th>4245</th>\n",
       "      <td>Benny Morris’s Untenable Denial of the Ethnic ...</td>\n",
       "      <td>0</td>\n",
       "      <td>92823</td>\n",
       "    </tr>\n",
       "    <tr>\n",
       "      <th>4709</th>\n",
       "      <td>President-Elect Donald Trump's First Televised...</td>\n",
       "      <td>0</td>\n",
       "      <td>41697</td>\n",
       "    </tr>\n",
       "    <tr>\n",
       "      <th>4762</th>\n",
       "      <td>Re: The Velocity Of Money In The U.S. Falls To...</td>\n",
       "      <td>0</td>\n",
       "      <td>43623</td>\n",
       "    </tr>\n",
       "  </tbody>\n",
       "</table>\n",
       "</div>"
      ],
      "text/plain": [
       "                                                   text  label  textlength\n",
       "720   Re: Why Are So Many People Choosing To Leave T...      0      115924\n",
       "1612  Re: Why Is Obama Threatening Russia With World...      0       97429\n",
       "4245  Benny Morris’s Untenable Denial of the Ethnic ...      0       92823\n",
       "4709  President-Elect Donald Trump's First Televised...      0       41697\n",
       "4762  Re: The Velocity Of Money In The U.S. Falls To...      0       43623"
      ]
     },
     "execution_count": 23,
     "metadata": {},
     "output_type": "execute_result"
    }
   ],
   "source": [
    "print(df2[(df2['textlength'] > 40000)].count())\n",
    "df2[(df2['textlength'] > 40000)].head()"
   ]
  },
  {
   "cell_type": "code",
   "execution_count": 24,
   "id": "c3acd6d6",
   "metadata": {},
   "outputs": [],
   "source": [
    "def shortenLongText(text):\n",
    "    return text[:40000]"
   ]
  },
  {
   "cell_type": "code",
   "execution_count": 25,
   "id": "bfc6a5ae",
   "metadata": {},
   "outputs": [
    {
     "data": {
      "text/html": [
       "<div>\n",
       "<style scoped>\n",
       "    .dataframe tbody tr th:only-of-type {\n",
       "        vertical-align: middle;\n",
       "    }\n",
       "\n",
       "    .dataframe tbody tr th {\n",
       "        vertical-align: top;\n",
       "    }\n",
       "\n",
       "    .dataframe thead th {\n",
       "        text-align: right;\n",
       "    }\n",
       "</style>\n",
       "<table border=\"1\" class=\"dataframe\">\n",
       "  <thead>\n",
       "    <tr style=\"text-align: right;\">\n",
       "      <th></th>\n",
       "      <th>text</th>\n",
       "      <th>label</th>\n",
       "    </tr>\n",
       "  </thead>\n",
       "  <tbody>\n",
       "    <tr>\n",
       "      <th>0</th>\n",
       "      <td>In the Western World Respect for Law No Longer...</td>\n",
       "      <td>0</td>\n",
       "    </tr>\n",
       "    <tr>\n",
       "      <th>1</th>\n",
       "      <td>WATCH: President Obama Unleashes On Trump, Sa...</td>\n",
       "      <td>0</td>\n",
       "    </tr>\n",
       "    <tr>\n",
       "      <th>2</th>\n",
       "      <td>THE GUY WHO Punched “Moldylocks” Speaks Out Ab...</td>\n",
       "      <td>0</td>\n",
       "    </tr>\n",
       "    <tr>\n",
       "      <th>3</th>\n",
       "      <td>SAY WHAT? AMAZON TELLS CUSTOMER THEY WERE FORC...</td>\n",
       "      <td>0</td>\n",
       "    </tr>\n",
       "    <tr>\n",
       "      <th>4</th>\n",
       "      <td>ANTI-GUN Zealot KATIE COURIC Hit With $12 MILL...</td>\n",
       "      <td>0</td>\n",
       "    </tr>\n",
       "    <tr>\n",
       "      <th>...</th>\n",
       "      <td>...</td>\n",
       "      <td>...</td>\n",
       "    </tr>\n",
       "    <tr>\n",
       "      <th>33826</th>\n",
       "      <td>STATE’S ATTORNEY LIED: BALTIMORE POLICE HAD PR...</td>\n",
       "      <td>0</td>\n",
       "    </tr>\n",
       "    <tr>\n",
       "      <th>33827</th>\n",
       "      <td>Russia denies its planes killed civilians in S...</td>\n",
       "      <td>1</td>\n",
       "    </tr>\n",
       "    <tr>\n",
       "      <th>33828</th>\n",
       "      <td>Hungary’s “Wall” Versus the U.S. “Wall” Op-Ed ...</td>\n",
       "      <td>0</td>\n",
       "    </tr>\n",
       "    <tr>\n",
       "      <th>33829</th>\n",
       "      <td>Pastor Caught Trump’s Spiritual Advisor Steal...</td>\n",
       "      <td>0</td>\n",
       "    </tr>\n",
       "    <tr>\n",
       "      <th>33830</th>\n",
       "      <td>BOOM! SENATOR LINDSEY GRAHAM: I Have Reason to...</td>\n",
       "      <td>0</td>\n",
       "    </tr>\n",
       "  </tbody>\n",
       "</table>\n",
       "<p>33831 rows × 2 columns</p>\n",
       "</div>"
      ],
      "text/plain": [
       "                                                    text  label\n",
       "0      In the Western World Respect for Law No Longer...      0\n",
       "1       WATCH: President Obama Unleashes On Trump, Sa...      0\n",
       "2      THE GUY WHO Punched “Moldylocks” Speaks Out Ab...      0\n",
       "3      SAY WHAT? AMAZON TELLS CUSTOMER THEY WERE FORC...      0\n",
       "4      ANTI-GUN Zealot KATIE COURIC Hit With $12 MILL...      0\n",
       "...                                                  ...    ...\n",
       "33826  STATE’S ATTORNEY LIED: BALTIMORE POLICE HAD PR...      0\n",
       "33827  Russia denies its planes killed civilians in S...      1\n",
       "33828  Hungary’s “Wall” Versus the U.S. “Wall” Op-Ed ...      0\n",
       "33829   Pastor Caught Trump’s Spiritual Advisor Steal...      0\n",
       "33830  BOOM! SENATOR LINDSEY GRAHAM: I Have Reason to...      0\n",
       "\n",
       "[33831 rows x 2 columns]"
      ]
     },
     "execution_count": 25,
     "metadata": {},
     "output_type": "execute_result"
    }
   ],
   "source": [
    "# Shortening really long texts (above 40000 words)\n",
    "df2['text'] = df2['text'].apply(shortenLongText)\n",
    "df2 = df2.drop(columns='textlength')\n",
    "df2"
   ]
  },
  {
   "cell_type": "code",
   "execution_count": 26,
   "id": "c4c543fc",
   "metadata": {},
   "outputs": [],
   "source": [
    "# Transformer function\n",
    "def shortenOutliers(df):\n",
    "    df['text'] = df['text'].apply(shortenLongText)\n",
    "    print('Outliers removed')\n",
    "    return df"
   ]
  },
  {
   "cell_type": "markdown",
   "id": "d4b4bf9d",
   "metadata": {},
   "source": [
    "### Removing stopwords"
   ]
  },
  {
   "cell_type": "code",
   "execution_count": 27,
   "id": "995b9ffd",
   "metadata": {},
   "outputs": [],
   "source": [
    "# Stopwords removal\n",
    "stop = stopwords.words('english')\n",
    "lemmatizer = WordNetLemmatizer()\n",
    "def remove_stopwords(s):\n",
    "    s = [lemmatizer.lemmatize(word.lower()) for word in s if not word.lower() in stop]\n",
    "    return s"
   ]
  },
  {
   "cell_type": "code",
   "execution_count": 28,
   "id": "9f14d113",
   "metadata": {},
   "outputs": [],
   "source": [
    "# Punctuation and number removal\n",
    "def remove_punctuations(s):\n",
    "    s = re.sub(r'[^a-zA-Z\\s]', '', s)\n",
    "    return s"
   ]
  },
  {
   "cell_type": "code",
   "execution_count": 29,
   "id": "a9c79642",
   "metadata": {},
   "outputs": [],
   "source": [
    "df2['text'] = df2['text'].apply(remove_punctuations)\n",
    "df2['text'] = df2['text'].apply(word_tokenize)"
   ]
  },
  {
   "cell_type": "code",
   "execution_count": 30,
   "id": "f85e04c2",
   "metadata": {},
   "outputs": [],
   "source": [
    "df2['text'] = df2['text'].apply(remove_stopwords)"
   ]
  },
  {
   "cell_type": "code",
   "execution_count": null,
   "id": "48034e92",
   "metadata": {
    "scrolled": true
   },
   "outputs": [],
   "source": [
    "def list2string(text):\n",
    "    text = \" \".join(wrd for wrd in text)\n",
    "    return text"
   ]
  },
  {
   "cell_type": "code",
   "execution_count": null,
   "id": "39d4205f",
   "metadata": {},
   "outputs": [],
   "source": [
    "df3 = df2.copy()"
   ]
  },
  {
   "cell_type": "code",
   "execution_count": null,
   "id": "3e3bffe2",
   "metadata": {},
   "outputs": [],
   "source": [
    "df3[\"text\"] = df3[\"text\"].apply(list2string)\n",
    "df3.head()"
   ]
  },
  {
   "cell_type": "code",
   "execution_count": null,
   "id": "7f53e0f2",
   "metadata": {},
   "outputs": [],
   "source": [
    "# Transformer function\n",
    "def removeStopwords(df):\n",
    "    df['text'] = df['text'].apply(remove_punctuations)\n",
    "    print('Punctuation removed')\n",
    "    df['text'] = df['text'].apply(word_tokenize)\n",
    "    print('Words tokenized')\n",
    "    df['text'] = df['text'].apply(remove_stopwords)\n",
    "    print('Stopwords removed')\n",
    "    df['text'] = df['text'].apply(list2string)\n",
    "    return df"
   ]
  },
  {
   "cell_type": "markdown",
   "id": "30eff8bb",
   "metadata": {},
   "source": [
    "### Extracting english"
   ]
  },
  {
   "cell_type": "code",
   "execution_count": null,
   "id": "94e0281f",
   "metadata": {},
   "outputs": [],
   "source": [
    "def deleteUrl(text):\n",
    "    return re.sub(r'(?i)\\b((?:https?://|www\\d{0,3}[.]|[a-z0-9.\\-]+[.][a-z]{2,4}/)(?:[^\\s()<>]+|\\(([^\\s()<>]+|(\\([^\\s()<>]+\\)))*\\))+(?:\\(([^\\s()<>]+|(\\([^\\s()<>]+\\)))*\\)|[^\\s`!()\\[\\]{};:\\'\".,<>?«»“”‘’]))', '', text)"
   ]
  },
  {
   "cell_type": "code",
   "execution_count": null,
   "id": "2689436f",
   "metadata": {},
   "outputs": [],
   "source": [
    "# Deleting URLs\n",
    "df3['text'] = df3['text'].apply(deleteUrl)"
   ]
  },
  {
   "cell_type": "code",
   "execution_count": null,
   "id": "e3d452f0",
   "metadata": {},
   "outputs": [],
   "source": [
    "# Deleting very short texts\n",
    "df3 = df3[df3['text'].apply(len) > 10]"
   ]
  },
  {
   "cell_type": "code",
   "execution_count": null,
   "id": "65dff531",
   "metadata": {},
   "outputs": [],
   "source": [
    "df3.head()"
   ]
  },
  {
   "cell_type": "code",
   "execution_count": null,
   "id": "7047614e",
   "metadata": {},
   "outputs": [],
   "source": [
    "df4 = df3.copy()"
   ]
  },
  {
   "cell_type": "code",
   "execution_count": null,
   "id": "a7dd02bb",
   "metadata": {},
   "outputs": [],
   "source": [
    "DetectorFactory.seed = 0\n",
    "df4['lang'] = df4['text'].apply(detect)"
   ]
  },
  {
   "cell_type": "code",
   "execution_count": null,
   "id": "a3ce3a36",
   "metadata": {},
   "outputs": [],
   "source": [
    "df_not_ang = df4[df4['lang']!='en']"
   ]
  },
  {
   "cell_type": "code",
   "execution_count": null,
   "id": "5d9b8a46",
   "metadata": {},
   "outputs": [],
   "source": [
    "df_not_ang = df_not_ang[['text', 'label']].reset_index(drop=True)\n",
    "df_not_ang[['label']].value_counts()"
   ]
  },
  {
   "cell_type": "code",
   "execution_count": 52,
   "id": "07db5ba7",
   "metadata": {},
   "outputs": [],
   "source": [
    "# robimy model który będzie wykrywał po angielsku\n",
    "df4 = df4[df4['lang']=='en']"
   ]
  },
  {
   "cell_type": "code",
   "execution_count": 55,
   "id": "2119bc0c",
   "metadata": {},
   "outputs": [
    {
     "data": {
      "text/html": [
       "<div>\n",
       "<style scoped>\n",
       "    .dataframe tbody tr th:only-of-type {\n",
       "        vertical-align: middle;\n",
       "    }\n",
       "\n",
       "    .dataframe tbody tr th {\n",
       "        vertical-align: top;\n",
       "    }\n",
       "\n",
       "    .dataframe thead th {\n",
       "        text-align: right;\n",
       "    }\n",
       "</style>\n",
       "<table border=\"1\" class=\"dataframe\">\n",
       "  <thead>\n",
       "    <tr style=\"text-align: right;\">\n",
       "      <th></th>\n",
       "      <th>text</th>\n",
       "      <th>label</th>\n",
       "    </tr>\n",
       "  </thead>\n",
       "  <tbody>\n",
       "    <tr>\n",
       "      <th>0</th>\n",
       "      <td>western world respect law longer exists wester...</td>\n",
       "      <td>0</td>\n",
       "    </tr>\n",
       "    <tr>\n",
       "      <th>1</th>\n",
       "      <td>watch president obama unleashes trump say terr...</td>\n",
       "      <td>0</td>\n",
       "    </tr>\n",
       "    <tr>\n",
       "      <th>2</th>\n",
       "      <td>guy punched moldylocks speaks violent antifa f...</td>\n",
       "      <td>0</td>\n",
       "    </tr>\n",
       "    <tr>\n",
       "      <th>3</th>\n",
       "      <td>say amazon tell customer forced federal govern...</td>\n",
       "      <td>0</td>\n",
       "    </tr>\n",
       "    <tr>\n",
       "      <th>4</th>\n",
       "      <td>trump crisis lewd remark woman come light new ...</td>\n",
       "      <td>1</td>\n",
       "    </tr>\n",
       "    <tr>\n",
       "      <th>...</th>\n",
       "      <td>...</td>\n",
       "      <td>...</td>\n",
       "    </tr>\n",
       "    <tr>\n",
       "      <th>29375</th>\n",
       "      <td>trump give brutal warning lawless sanctuary ci...</td>\n",
       "      <td>0</td>\n",
       "    </tr>\n",
       "    <tr>\n",
       "      <th>29376</th>\n",
       "      <td>state attorney lied baltimore police probable ...</td>\n",
       "      <td>0</td>\n",
       "    </tr>\n",
       "    <tr>\n",
       "      <th>29377</th>\n",
       "      <td>hungary wall versus u wall oped catherine j fr...</td>\n",
       "      <td>0</td>\n",
       "    </tr>\n",
       "    <tr>\n",
       "      <th>29378</th>\n",
       "      <td>pastor caught trump spiritual advisor stealing...</td>\n",
       "      <td>0</td>\n",
       "    </tr>\n",
       "    <tr>\n",
       "      <th>29379</th>\n",
       "      <td>boom senator lindsey graham reason believe cli...</td>\n",
       "      <td>0</td>\n",
       "    </tr>\n",
       "  </tbody>\n",
       "</table>\n",
       "<p>29380 rows × 2 columns</p>\n",
       "</div>"
      ],
      "text/plain": [
       "                                                    text  label\n",
       "0      western world respect law longer exists wester...      0\n",
       "1      watch president obama unleashes trump say terr...      0\n",
       "2      guy punched moldylocks speaks violent antifa f...      0\n",
       "3      say amazon tell customer forced federal govern...      0\n",
       "4      trump crisis lewd remark woman come light new ...      1\n",
       "...                                                  ...    ...\n",
       "29375  trump give brutal warning lawless sanctuary ci...      0\n",
       "29376  state attorney lied baltimore police probable ...      0\n",
       "29377  hungary wall versus u wall oped catherine j fr...      0\n",
       "29378  pastor caught trump spiritual advisor stealing...      0\n",
       "29379  boom senator lindsey graham reason believe cli...      0\n",
       "\n",
       "[29380 rows x 2 columns]"
      ]
     },
     "execution_count": 55,
     "metadata": {},
     "output_type": "execute_result"
    }
   ],
   "source": [
    "df4 = df4[['text', 'label']].reset_index(drop=True)\n",
    "df4"
   ]
  },
  {
   "cell_type": "code",
   "execution_count": 16,
   "id": "5c7713a9",
   "metadata": {},
   "outputs": [],
   "source": [
    "#transformer function\n",
    "def dropLanguages(df):\n",
    "    DetectorFactory.seed = 0\n",
    "    df['text'] = df['text'].apply(deleteUrl)\n",
    "    df = df[df['text'].apply(len) > 10]\n",
    "    print('Text cleaned')\n",
    "    df['lang'] = df['text'].apply(detect)\n",
    "    df = df[df['lang']=='en']\n",
    "    df = df.drop(columns=['shorttext', 'lang'])\n",
    "    print('Languages dropped')\n",
    "    return df"
   ]
  },
  {
   "cell_type": "code",
   "execution_count": null,
   "id": "50a7ad58",
   "metadata": {},
   "outputs": [],
   "source": []
  },
  {
   "cell_type": "code",
   "execution_count": 57,
   "id": "3fbdb0e8",
   "metadata": {},
   "outputs": [],
   "source": [
    "# żeby zapisać dane\n",
    "df4.to_csv('train_data.csv', index=False)"
   ]
  },
  {
   "cell_type": "markdown",
   "id": "9c587f2f",
   "metadata": {},
   "source": [
    "### Word Cloud"
   ]
  },
  {
   "cell_type": "code",
   "execution_count": 51,
   "id": "60e13b91",
   "metadata": {},
   "outputs": [],
   "source": [
    "df_fake = df4[df4[\"label\"] == 0]\n",
    "df_true = df4[df4[\"label\"] == 1]"
   ]
  },
  {
   "cell_type": "code",
   "execution_count": 155,
   "id": "720a69ee",
   "metadata": {},
   "outputs": [
    {
     "data": {
      "image/png": "[encoded data removed]",
      "text/plain": [
       "<Figure size 432x288 with 1 Axes>"
      ]
     },
     "metadata": {
      "needs_background": "light"
     },
     "output_type": "display_data"
    }
   ],
   "source": [
    "# Fałszywe\n",
    "consolidated_f = ' '.join(\n",
    "    word for word in df_fake['text'].astype(str))\n",
    "wordcloud = WordCloud().generate(consolidated_f)\n",
    "plt.imshow(wordcloud, interpolation='bilinear')\n",
    "plt.axis(\"off\")\n",
    "plt.show()"
   ]
  },
  {
   "cell_type": "code",
   "execution_count": 156,
   "id": "b172e4c0",
   "metadata": {
    "scrolled": true
   },
   "outputs": [
    {
     "data": {
      "image/png": "[encoded data removed]",
      "text/plain": [
       "<Figure size 432x288 with 1 Axes>"
      ]
     },
     "metadata": {
      "needs_background": "light"
     },
     "output_type": "display_data"
    }
   ],
   "source": [
    "# Prawdziwe\n",
    "consolidated_t = ' '.join(\n",
    "    word for word in df_true['text'].astype(str))\n",
    "wordcloud = WordCloud().generate(consolidated_t)\n",
    "plt.imshow(wordcloud, interpolation='bilinear')\n",
    "plt.axis(\"off\")\n",
    "plt.show()"
   ]
  },
  {
   "cell_type": "code",
   "execution_count": 2,
   "id": "55297db4",
   "metadata": {},
   "outputs": [],
   "source": [
    "#df4 = pd.read_csv('train_data.csv')"
   ]
  },
  {
   "cell_type": "code",
   "execution_count": 60,
   "id": "7f08f86e",
   "metadata": {},
   "outputs": [],
   "source": [
    "# Bag of words - liczba wystąpień każdego słowa w danym tekście\n",
    "count_vect = CountVectorizer()\n",
    "X_train_counts = count_vect.fit_transform(df4['text'])"
   ]
  },
  {
   "cell_type": "code",
   "execution_count": 61,
   "id": "7aaac33d",
   "metadata": {},
   "outputs": [],
   "source": [
    "# Zamiana częstości w częstotliwość wystąpień\n",
    "tfidf_transformer = TfidfTransformer()\n",
    "X_train_tfidf = tfidf_transformer.fit_transform(X_train_counts)"
   ]
  },
  {
   "cell_type": "code",
   "execution_count": 62,
   "id": "9841ed3f",
   "metadata": {},
   "outputs": [
    {
     "data": {
      "text/plain": [
       "(29380, 180166)"
      ]
     },
     "execution_count": 62,
     "metadata": {},
     "output_type": "execute_result"
    }
   ],
   "source": [
    "X_train_tfidf.shape"
   ]
  },
  {
   "cell_type": "markdown",
   "id": "4696ddf8",
   "metadata": {},
   "source": [
    "## Pipeline"
   ]
  },
  {
   "cell_type": "code",
   "execution_count": 19,
   "id": "00e2560f",
   "metadata": {},
   "outputs": [],
   "source": [
    "from sklearn.preprocessing import FunctionTransformer\n",
    "from sklearn.pipeline import Pipeline\n",
    "\n",
    "na_transformer = FunctionTransformer(handleNa)\n",
    "column_transformer = FunctionTransformer(combineColumns)\n",
    "outliers_transformer = FunctionTransformer(shortenOutliers)\n",
    "stopwords_transformer = FunctionTransformer(removeStopwords)\n",
    "language_transformer = FunctionTransformer(dropLanguages)\n",
    "\n",
    "custom_pipe = Pipeline([\n",
    "    (\"na\", na_transformer),\n",
    "    ('columns', column_transformer),\n",
    "    ('outliers', outliers_transformer),\n",
    "    (\"stopwords\", stopwords_transformer),\n",
    "    (\"language\", language_transformer),\n",
    "])"
   ]
  },
  {
   "cell_type": "code",
   "execution_count": 34,
   "id": "6e904402",
   "metadata": {},
   "outputs": [],
   "source": [
    "train = pd.read_csv('training_data.csv', index_col=False)"
   ]
  },
  {
   "cell_type": "code",
   "execution_count": 35,
   "id": "b4280492",
   "metadata": {
    "scrolled": false
   },
   "outputs": [
    {
     "data": {
      "text/html": [
       "<div>\n",
       "<style scoped>\n",
       "    .dataframe tbody tr th:only-of-type {\n",
       "        vertical-align: middle;\n",
       "    }\n",
       "\n",
       "    .dataframe tbody tr th {\n",
       "        vertical-align: top;\n",
       "    }\n",
       "\n",
       "    .dataframe thead th {\n",
       "        text-align: right;\n",
       "    }\n",
       "</style>\n",
       "<table border=\"1\" class=\"dataframe\">\n",
       "  <thead>\n",
       "    <tr style=\"text-align: right;\">\n",
       "      <th></th>\n",
       "      <th>title</th>\n",
       "      <th>text</th>\n",
       "      <th>label</th>\n",
       "    </tr>\n",
       "  </thead>\n",
       "  <tbody>\n",
       "    <tr>\n",
       "      <th>0</th>\n",
       "      <td>In the Western World Respect for Law No Longer...</td>\n",
       "      <td>In the Western World Respect for Law No Longer...</td>\n",
       "      <td>fake</td>\n",
       "    </tr>\n",
       "    <tr>\n",
       "      <th>1</th>\n",
       "      <td>WATCH: President Obama Unleashes On Trump, Sa...</td>\n",
       "      <td>During an interview on CBS s Face the Nation S...</td>\n",
       "      <td>fake</td>\n",
       "    </tr>\n",
       "    <tr>\n",
       "      <th>2</th>\n",
       "      <td>THE GUY WHO Punched “Moldylocks” Speaks Out Ab...</td>\n",
       "      <td>Nathan Domingo is the founder of  Identity Eur...</td>\n",
       "      <td>fake</td>\n",
       "    </tr>\n",
       "    <tr>\n",
       "      <th>3</th>\n",
       "      <td>SAY WHAT? AMAZON TELLS CUSTOMER THEY WERE FORC...</td>\n",
       "      <td>When it comes to limiting our free speech, not...</td>\n",
       "      <td>fake</td>\n",
       "    </tr>\n",
       "    <tr>\n",
       "      <th>4</th>\n",
       "      <td>ANTI-GUN Zealot KATIE COURIC Hit With $12 MILL...</td>\n",
       "      <td>Little Miss Sunshine  has fooled a lot of peo...</td>\n",
       "      <td>fake</td>\n",
       "    </tr>\n",
       "    <tr>\n",
       "      <th>...</th>\n",
       "      <td>...</td>\n",
       "      <td>...</td>\n",
       "      <td>...</td>\n",
       "    </tr>\n",
       "    <tr>\n",
       "      <th>33826</th>\n",
       "      <td>STATE’S ATTORNEY LIED: BALTIMORE POLICE HAD PR...</td>\n",
       "      <td>Marilyn Mosby held a press conference today in...</td>\n",
       "      <td>fake</td>\n",
       "    </tr>\n",
       "    <tr>\n",
       "      <th>33827</th>\n",
       "      <td>Russia denies its planes killed civilians in S...</td>\n",
       "      <td>MOSCOW (Reuters) - Russia s Defence Ministry d...</td>\n",
       "      <td>true</td>\n",
       "    </tr>\n",
       "    <tr>\n",
       "      <th>33828</th>\n",
       "      <td>Hungary’s “Wall” Versus the U.S. “Wall”</td>\n",
       "      <td>Op-Ed by Catherine J. Frompovich\\r\\nCurrently ...</td>\n",
       "      <td>fake</td>\n",
       "    </tr>\n",
       "    <tr>\n",
       "      <th>33829</th>\n",
       "      <td>Pastor Caught Trump’s Spiritual Advisor Steal...</td>\n",
       "      <td>It seems that Donald Trump s spiritual advisor...</td>\n",
       "      <td>fake</td>\n",
       "    </tr>\n",
       "    <tr>\n",
       "      <th>33830</th>\n",
       "      <td>BOOM! SENATOR LINDSEY GRAHAM: I Have Reason to...</td>\n",
       "      <td>Senator Lindsey Graham:  I have reason to beli...</td>\n",
       "      <td>fake</td>\n",
       "    </tr>\n",
       "  </tbody>\n",
       "</table>\n",
       "<p>33831 rows × 3 columns</p>\n",
       "</div>"
      ],
      "text/plain": [
       "                                                   title  \\\n",
       "0      In the Western World Respect for Law No Longer...   \n",
       "1       WATCH: President Obama Unleashes On Trump, Sa...   \n",
       "2      THE GUY WHO Punched “Moldylocks” Speaks Out Ab...   \n",
       "3      SAY WHAT? AMAZON TELLS CUSTOMER THEY WERE FORC...   \n",
       "4      ANTI-GUN Zealot KATIE COURIC Hit With $12 MILL...   \n",
       "...                                                  ...   \n",
       "33826  STATE’S ATTORNEY LIED: BALTIMORE POLICE HAD PR...   \n",
       "33827  Russia denies its planes killed civilians in S...   \n",
       "33828            Hungary’s “Wall” Versus the U.S. “Wall”   \n",
       "33829   Pastor Caught Trump’s Spiritual Advisor Steal...   \n",
       "33830  BOOM! SENATOR LINDSEY GRAHAM: I Have Reason to...   \n",
       "\n",
       "                                                    text label  \n",
       "0      In the Western World Respect for Law No Longer...  fake  \n",
       "1      During an interview on CBS s Face the Nation S...  fake  \n",
       "2      Nathan Domingo is the founder of  Identity Eur...  fake  \n",
       "3      When it comes to limiting our free speech, not...  fake  \n",
       "4       Little Miss Sunshine  has fooled a lot of peo...  fake  \n",
       "...                                                  ...   ...  \n",
       "33826  Marilyn Mosby held a press conference today in...  fake  \n",
       "33827  MOSCOW (Reuters) - Russia s Defence Ministry d...  true  \n",
       "33828  Op-Ed by Catherine J. Frompovich\\r\\nCurrently ...  fake  \n",
       "33829  It seems that Donald Trump s spiritual advisor...  fake  \n",
       "33830  Senator Lindsey Graham:  I have reason to beli...  fake  \n",
       "\n",
       "[33831 rows x 3 columns]"
      ]
     },
     "execution_count": 35,
     "metadata": {},
     "output_type": "execute_result"
    }
   ],
   "source": [
    "train"
   ]
  },
  {
   "cell_type": "code",
   "execution_count": 36,
   "id": "595f6cac",
   "metadata": {},
   "outputs": [],
   "source": [
    "train = encodeLabels(train)"
   ]
  },
  {
   "cell_type": "code",
   "execution_count": 37,
   "id": "8561f4b8",
   "metadata": {},
   "outputs": [
    {
     "name": "stdout",
     "output_type": "stream",
     "text": [
      "NaNs replaced\n",
      "Columns combined\n",
      "Outliers removed\n",
      "Punctuation removed\n",
      "Words tokenized\n",
      "Stopwords removed\n",
      "Text cleaned\n",
      "Languages dropped\n"
     ]
    },
    {
     "name": "stderr",
     "output_type": "stream",
     "text": [
      "C:\\Users\\karim\\AppData\\Local\\Temp/ipykernel_16104/446988254.py:8: SettingWithCopyWarning: \n",
      "A value is trying to be set on a copy of a slice from a DataFrame.\n",
      "Try using .loc[row_indexer,col_indexer] = value instead\n",
      "\n",
      "See the caveats in the documentation: https://pandas.pydata.org/pandas-docs/stable/user_guide/indexing.html#returning-a-view-versus-a-copy\n",
      "  df['lang'] = df['shorttext'].apply(detect)\n"
     ]
    }
   ],
   "source": [
    "train_transformed = custom_pipe.transform(train)"
   ]
  },
  {
   "cell_type": "code",
   "execution_count": 38,
   "id": "27d631f5",
   "metadata": {},
   "outputs": [
    {
     "data": {
      "text/html": [
       "<div>\n",
       "<style scoped>\n",
       "    .dataframe tbody tr th:only-of-type {\n",
       "        vertical-align: middle;\n",
       "    }\n",
       "\n",
       "    .dataframe tbody tr th {\n",
       "        vertical-align: top;\n",
       "    }\n",
       "\n",
       "    .dataframe thead th {\n",
       "        text-align: right;\n",
       "    }\n",
       "</style>\n",
       "<table border=\"1\" class=\"dataframe\">\n",
       "  <thead>\n",
       "    <tr style=\"text-align: right;\">\n",
       "      <th></th>\n",
       "      <th>text</th>\n",
       "      <th>label</th>\n",
       "    </tr>\n",
       "  </thead>\n",
       "  <tbody>\n",
       "    <tr>\n",
       "      <th>0</th>\n",
       "      <td>western world respect law longer exists wester...</td>\n",
       "      <td>0</td>\n",
       "    </tr>\n",
       "    <tr>\n",
       "      <th>1</th>\n",
       "      <td>watch president obama unleashes trump say terr...</td>\n",
       "      <td>0</td>\n",
       "    </tr>\n",
       "    <tr>\n",
       "      <th>2</th>\n",
       "      <td>guy punched moldylocks speaks violent antifa f...</td>\n",
       "      <td>0</td>\n",
       "    </tr>\n",
       "    <tr>\n",
       "      <th>3</th>\n",
       "      <td>say amazon tell customer forced federal govern...</td>\n",
       "      <td>0</td>\n",
       "    </tr>\n",
       "    <tr>\n",
       "      <th>5</th>\n",
       "      <td>trump crisis lewd remark woman come light new ...</td>\n",
       "      <td>1</td>\n",
       "    </tr>\n",
       "    <tr>\n",
       "      <th>...</th>\n",
       "      <td>...</td>\n",
       "      <td>...</td>\n",
       "    </tr>\n",
       "    <tr>\n",
       "      <th>33825</th>\n",
       "      <td>trump give brutal warning lawless sanctuary ci...</td>\n",
       "      <td>0</td>\n",
       "    </tr>\n",
       "    <tr>\n",
       "      <th>33826</th>\n",
       "      <td>state attorney lied baltimore police probable ...</td>\n",
       "      <td>0</td>\n",
       "    </tr>\n",
       "    <tr>\n",
       "      <th>33828</th>\n",
       "      <td>hungary wall versus u wall oped catherine j fr...</td>\n",
       "      <td>0</td>\n",
       "    </tr>\n",
       "    <tr>\n",
       "      <th>33829</th>\n",
       "      <td>pastor caught trump spiritual advisor stealing...</td>\n",
       "      <td>0</td>\n",
       "    </tr>\n",
       "    <tr>\n",
       "      <th>33830</th>\n",
       "      <td>boom senator lindsey graham reason believe cli...</td>\n",
       "      <td>0</td>\n",
       "    </tr>\n",
       "  </tbody>\n",
       "</table>\n",
       "<p>29380 rows × 2 columns</p>\n",
       "</div>"
      ],
      "text/plain": [
       "                                                    text  label\n",
       "0      western world respect law longer exists wester...      0\n",
       "1      watch president obama unleashes trump say terr...      0\n",
       "2      guy punched moldylocks speaks violent antifa f...      0\n",
       "3      say amazon tell customer forced federal govern...      0\n",
       "5      trump crisis lewd remark woman come light new ...      1\n",
       "...                                                  ...    ...\n",
       "33825  trump give brutal warning lawless sanctuary ci...      0\n",
       "33826  state attorney lied baltimore police probable ...      0\n",
       "33828  hungary wall versus u wall oped catherine j fr...      0\n",
       "33829  pastor caught trump spiritual advisor stealing...      0\n",
       "33830  boom senator lindsey graham reason believe cli...      0\n",
       "\n",
       "[29380 rows x 2 columns]"
      ]
     },
     "execution_count": 38,
     "metadata": {},
     "output_type": "execute_result"
    }
   ],
   "source": [
    "train_transformed"
   ]
  },
  {
   "cell_type": "code",
   "execution_count": 39,
   "id": "622a5d0f",
   "metadata": {},
   "outputs": [],
   "source": [
    "train_transformed_x = train_transformed['text']\n",
    "train_transformed_y = train_transformed['label']"
   ]
  },
  {
   "cell_type": "markdown",
   "id": "caaf2520",
   "metadata": {},
   "source": [
    "### Transforming testing dataset"
   ]
  },
  {
   "cell_type": "code",
   "execution_count": 3,
   "id": "b135ca89",
   "metadata": {},
   "outputs": [],
   "source": [
    "test = pd.read_csv('testing_data.csv', index_col=False)"
   ]
  },
  {
   "cell_type": "code",
   "execution_count": 23,
   "id": "1ad4d1d9",
   "metadata": {},
   "outputs": [],
   "source": [
    "test = encodeLabels(test)"
   ]
  },
  {
   "cell_type": "code",
   "execution_count": 24,
   "id": "676c17a5",
   "metadata": {},
   "outputs": [
    {
     "name": "stdout",
     "output_type": "stream",
     "text": [
      "NaNs replaced\n",
      "Columns combined\n",
      "Outliers removed\n",
      "Punctuation removed\n",
      "Words tokenized\n",
      "Stopwords removed\n",
      "Text cleaned\n",
      "Languages dropped\n"
     ]
    },
    {
     "name": "stderr",
     "output_type": "stream",
     "text": [
      "C:\\Users\\karim\\AppData\\Local\\Temp/ipykernel_16104/446988254.py:8: SettingWithCopyWarning: \n",
      "A value is trying to be set on a copy of a slice from a DataFrame.\n",
      "Try using .loc[row_indexer,col_indexer] = value instead\n",
      "\n",
      "See the caveats in the documentation: https://pandas.pydata.org/pandas-docs/stable/user_guide/indexing.html#returning-a-view-versus-a-copy\n",
      "  df['lang'] = df['shorttext'].apply(detect)\n"
     ]
    }
   ],
   "source": [
    "test_transformed = custom_pipe.transform(test)"
   ]
  },
  {
   "cell_type": "code",
   "execution_count": 29,
   "id": "db71c7cf",
   "metadata": {},
   "outputs": [],
   "source": [
    "test_transformed_x = test_transformed['text']\n",
    "test_transformed_y = test_transformed['label']"
   ]
  },
  {
   "cell_type": "markdown",
   "id": "5287f67c",
   "metadata": {},
   "source": [
    "## Model"
   ]
  },
  {
   "cell_type": "markdown",
   "id": "af0d481a",
   "metadata": {},
   "source": [
    "### Baseline model"
   ]
  },
  {
   "cell_type": "code",
   "execution_count": 30,
   "id": "639a32c8",
   "metadata": {},
   "outputs": [],
   "source": [
    "from sklearn.naive_bayes import MultinomialNB\n",
    "from sklearn.linear_model import SGDClassifier"
   ]
  },
  {
   "cell_type": "code",
   "execution_count": 31,
   "id": "b9383ef4",
   "metadata": {},
   "outputs": [],
   "source": [
    "# Pipeline with ready-made transformers and model\n",
    "model_pipe = Pipeline([\n",
    "    ('vectorizer', CountVectorizer()),\n",
    "    ('tfidf', TfidfTransformer()),\n",
    "    ('clf', MultinomialNB()),\n",
    "])"
   ]
  },
  {
   "cell_type": "code",
   "execution_count": 40,
   "id": "882a6dd6",
   "metadata": {},
   "outputs": [
    {
     "data": {
      "text/plain": [
       "Pipeline(steps=[('vectorizer', CountVectorizer()),\n",
       "                ('tfidf', TfidfTransformer()), ('clf', MultinomialNB())])"
      ]
     },
     "execution_count": 40,
     "metadata": {},
     "output_type": "execute_result"
    }
   ],
   "source": [
    "model_pipe.fit(train_transformed_x, train_transformed_y)"
   ]
  },
  {
   "cell_type": "code",
   "execution_count": 41,
   "id": "d41a9ec5",
   "metadata": {},
   "outputs": [],
   "source": [
    "predicted = model_pipe.predict(test_transformed_x)"
   ]
  },
  {
   "cell_type": "code",
   "execution_count": 130,
   "id": "38633223",
   "metadata": {},
   "outputs": [],
   "source": [
    "predicted_probability = model_pipe.predict_proba(test_transformed_x)"
   ]
  },
  {
   "cell_type": "code",
   "execution_count": null,
   "id": "8b4cf8e8",
   "metadata": {},
   "outputs": [],
   "source": [
    "np.mean(predicted == test_transformed_y)"
   ]
  },
  {
   "cell_type": "markdown",
   "id": "d352c91c",
   "metadata": {},
   "source": [
    "### Logistic regression"
   ]
  },
  {
   "cell_type": "code",
   "execution_count": 250,
   "id": "99e54115",
   "metadata": {},
   "outputs": [],
   "source": [
    "from sklearn.linear_model import LogisticRegression\n",
    "from sklearn.feature_extraction.text import CountVectorizer\n",
    "\n",
    "lr_pipe = Pipeline([\n",
    "    ('vectorizer', CountVectorizer(max_features=5000)),\n",
    "    ('classifier', LogisticRegression(random_state=42))\n",
    "])"
   ]
  },
  {
   "cell_type": "code",
   "execution_count": 251,
   "id": "c62c7607",
   "metadata": {},
   "outputs": [
    {
     "name": "stderr",
     "output_type": "stream",
     "text": [
      "C:\\Users\\karim\\anaconda3\\lib\\site-packages\\sklearn\\linear_model\\_logistic.py:763: ConvergenceWarning: lbfgs failed to converge (status=1):\n",
      "STOP: TOTAL NO. of ITERATIONS REACHED LIMIT.\n",
      "\n",
      "Increase the number of iterations (max_iter) or scale the data as shown in:\n",
      "    https://scikit-learn.org/stable/modules/preprocessing.html\n",
      "Please also refer to the documentation for alternative solver options:\n",
      "    https://scikit-learn.org/stable/modules/linear_model.html#logistic-regression\n",
      "  n_iter_i = _check_optimize_result(\n"
     ]
    },
    {
     "data": {
      "text/plain": [
       "Pipeline(steps=[('vectorizer', CountVectorizer(max_features=5000)),\n",
       "                ('classifier', LogisticRegression(random_state=42))])"
      ]
     },
     "execution_count": 251,
     "metadata": {},
     "output_type": "execute_result"
    }
   ],
   "source": [
    "lr_pipe.fit(train_transformed_x, train_transformed_y)"
   ]
  },
  {
   "cell_type": "code",
   "execution_count": 302,
   "id": "cc7f4ac7",
   "metadata": {},
   "outputs": [],
   "source": [
    "lr_predicted = lr_pipe.predict(test_transformed_x)\n",
    "lr_predicted_probability = lr_pipe.predict_proba(test_transformed_x)"
   ]
  },
  {
   "cell_type": "markdown",
   "id": "05121f30",
   "metadata": {},
   "source": [
    "### SVM"
   ]
  },
  {
   "cell_type": "code",
   "execution_count": 181,
   "id": "528eaca4",
   "metadata": {},
   "outputs": [],
   "source": [
    "svm_pipe = Pipeline([\n",
    "    ('vectorizer', CountVectorizer()),\n",
    "    ('tfidf', TfidfTransformer()),\n",
    "    ('clf', SGDClassifier(loss='hinge', penalty='l2',\n",
    "                          alpha=1e-3, random_state=42,\n",
    "                          max_iter=5, tol=None)),\n",
    "])"
   ]
  },
  {
   "cell_type": "code",
   "execution_count": 182,
   "id": "2fb074b0",
   "metadata": {},
   "outputs": [
    {
     "data": {
      "text/plain": [
       "Pipeline(steps=[('vectorizer', CountVectorizer()),\n",
       "                ('tfidf', TfidfTransformer()),\n",
       "                ('clf',\n",
       "                 SGDClassifier(alpha=0.001, max_iter=5, random_state=42,\n",
       "                               tol=None))])"
      ]
     },
     "execution_count": 182,
     "metadata": {},
     "output_type": "execute_result"
    }
   ],
   "source": [
    "svm_pipe.fit(train_transformed_x, train_transformed_y)"
   ]
  },
  {
   "cell_type": "code",
   "execution_count": 183,
   "id": "15d0a64b",
   "metadata": {},
   "outputs": [],
   "source": [
    "svm_predicted = svm_pipe.predict(test_transformed_x)"
   ]
  },
  {
   "cell_type": "code",
   "execution_count": null,
   "id": "bf8c190d",
   "metadata": {},
   "outputs": [],
   "source": [
    "np.mean(svm_predicted == test_transformed_y)"
   ]
  },
  {
   "cell_type": "markdown",
   "id": "1cee78bb",
   "metadata": {},
   "source": [
    "A lot better than Naive-Bayes classifier. Lets check the score if we also take bigrams into account"
   ]
  },
  {
   "cell_type": "code",
   "execution_count": 225,
   "id": "77040350",
   "metadata": {},
   "outputs": [],
   "source": [
    "svm_pipe_2 = Pipeline([\n",
    "    ('vectorizer', CountVectorizer(ngram_range=(1,2))),\n",
    "    ('tfidf', TfidfTransformer()),\n",
    "    ('clf', SGDClassifier(loss='hinge', penalty='l2',\n",
    "                          alpha=1e-3, random_state=42,\n",
    "                          max_iter=5, tol=None)),\n",
    "])"
   ]
  },
  {
   "cell_type": "code",
   "execution_count": 226,
   "id": "a5c7f516",
   "metadata": {},
   "outputs": [
    {
     "data": {
      "text/plain": [
       "Pipeline(steps=[('vectorizer', CountVectorizer(ngram_range=(1, 2))),\n",
       "                ('tfidf', TfidfTransformer()),\n",
       "                ('clf',\n",
       "                 SGDClassifier(alpha=0.001, max_iter=5, random_state=42,\n",
       "                               tol=None))])"
      ]
     },
     "execution_count": 226,
     "metadata": {},
     "output_type": "execute_result"
    }
   ],
   "source": [
    "svm_pipe_2.fit(train_transformed_x, train_transformed_y)"
   ]
  },
  {
   "cell_type": "code",
   "execution_count": 227,
   "id": "4eec98ec",
   "metadata": {},
   "outputs": [],
   "source": [
    "svm2_predicted = svm_pipe_2.predict(test_transformed_x)"
   ]
  },
  {
   "cell_type": "code",
   "execution_count": 109,
   "id": "e9efa38b",
   "metadata": {},
   "outputs": [
    {
     "data": {
      "text/plain": [
       "0.8779358437935844"
      ]
     },
     "execution_count": 109,
     "metadata": {},
     "output_type": "execute_result"
    }
   ],
   "source": [
    "np.mean(svm2_predicted == test_transformed_y)"
   ]
  },
  {
   "cell_type": "markdown",
   "id": "318fc385",
   "metadata": {},
   "source": [
    "It's actually worse, so we will be taking only single words into account. Let's play with the classifier parameters"
   ]
  },
  {
   "cell_type": "code",
   "execution_count": 220,
   "id": "9dc68a59",
   "metadata": {},
   "outputs": [],
   "source": [
    "huber_pipe = Pipeline([\n",
    "    ('vectorizer', CountVectorizer()),\n",
    "    ('tfidf', TfidfTransformer()),  \n",
    "    ('clf', SGDClassifier(loss='modified_huber', penalty='l2',\n",
    "                          alpha=1e-3, random_state=42,\n",
    "                          max_iter=10, tol=None)),\n",
    "])"
   ]
  },
  {
   "cell_type": "code",
   "execution_count": 221,
   "id": "61dae701",
   "metadata": {},
   "outputs": [
    {
     "data": {
      "text/plain": [
       "Pipeline(steps=[('vectorizer', CountVectorizer()),\n",
       "                ('tfidf', TfidfTransformer()),\n",
       "                ('clf',\n",
       "                 SGDClassifier(alpha=0.001, loss='modified_huber', max_iter=10,\n",
       "                               random_state=42, tol=None))])"
      ]
     },
     "execution_count": 221,
     "metadata": {},
     "output_type": "execute_result"
    }
   ],
   "source": [
    "huber_pipe.fit(train_transformed_x, train_transformed_y)"
   ]
  },
  {
   "cell_type": "code",
   "execution_count": 222,
   "id": "50bce8a4",
   "metadata": {},
   "outputs": [],
   "source": [
    "huber_predicted = huber_pipe.predict(test_transformed_x)"
   ]
  },
  {
   "cell_type": "code",
   "execution_count": 223,
   "id": "9e9c13a9",
   "metadata": {},
   "outputs": [],
   "source": [
    "huber_predicted_prob = huber_pipe.predict_proba(test_transformed_x)"
   ]
  },
  {
   "cell_type": "code",
   "execution_count": 118,
   "id": "8a0f19a6",
   "metadata": {},
   "outputs": [
    {
     "data": {
      "text/plain": [
       "0.9424267782426778"
      ]
     },
     "execution_count": 118,
     "metadata": {},
     "output_type": "execute_result"
    }
   ],
   "source": [
    "np.mean(huber_predicted == test_transformed_y)"
   ]
  },
  {
   "cell_type": "markdown",
   "id": "f213814d",
   "metadata": {},
   "source": [
    "dictionary of models and probabilities of false and true labels"
   ]
  },
  {
   "cell_type": "code",
   "execution_count": 303,
   "id": "6a245b41",
   "metadata": {},
   "outputs": [],
   "source": [
    "model_dict = {'Logistic regression': [lr_predicted, lr_predicted_probability]}\n",
    "model_dict['Multinomial Naive Bayes'] = [predicted, predicted_probability]\n",
    "model_dict['SVM'] = [svm_predicted, np.empty(shape=(0,))]\n",
    "model_dict['SVM with bigrams'] = [svm2_predicted, np.empty(shape=(0,))]\n",
    "model_dict['SVM modified huber'] = [huber_predicted, huber_predicted_prob]"
   ]
  },
  {
   "cell_type": "markdown",
   "id": "db6d7286",
   "metadata": {},
   "source": [
    "# Accuracy"
   ]
  },
  {
   "cell_type": "code",
   "execution_count": null,
   "id": "1de0e683",
   "metadata": {},
   "outputs": [],
   "source": [
    "# co znaczą te miary: \n",
    "# precision the ability of the classifier not to label as positive a sample that is negative.\n",
    "# tp / (tp + fp)\n",
    "# The recall is intuitively the ability of the classifier to find all the positive samples. \n",
    "# tp / (tp + fn)\n",
    "# F1 = 2 * (precision * recall) / (precision + recall)\n",
    "# log_loss - how far is the predicted value from actual"
   ]
  },
  {
   "cell_type": "code",
   "execution_count": 304,
   "id": "1e78eddb",
   "metadata": {},
   "outputs": [],
   "source": [
    "# precision\n",
    "from sklearn.metrics import precision_score, recall_score, f1_score, roc_auc_score, log_loss, brier_score_loss\n",
    "def accuracy(name, y_true,y_pred, y_probabilities = np.empty(shape=(0,))):\n",
    "    precision = precision_score(y_true, y_pred)\n",
    "    recall = recall_score(y_true, y_pred, pos_label=0)\n",
    "    F1_score = f1_score(y_true, y_pred, pos_label=0)\n",
    "    auc_score = roc_auc_score(y_true, y_pred)\n",
    "    if len(y_probabilities.tolist()) == 0:\n",
    "        Log_loss=None\n",
    "    else:\n",
    "        Log_loss = log_loss(y_true, y_probabilities)\n",
    "    my_dict = {'Classifier': name, 'precision': [precision], 'recall': [recall], 'f1 score': [F1_score], 'auc score': [auc_score], 'log loss': [Log_loss] }\n",
    "    df = pd.DataFrame.from_dict(my_dict) \n",
    "    return df"
   ]
  },
  {
   "cell_type": "code",
   "execution_count": 305,
   "id": "dcc5c629",
   "metadata": {},
   "outputs": [],
   "source": [
    "def accuracy_dataframe(model_dict):\n",
    "    accuracy_df = pd.DataFrame()\n",
    "    for name, val in model_dict.items():\n",
    "        accuracy_df = accuracy_df.append(pd.DataFrame(accuracy(name ,test_transformed_y, val[0], val[1])).set_index('Classifier'))\n",
    "    accuracy_df.round(decimals=3)\n",
    "    return accuracy_df"
   ]
  },
  {
   "cell_type": "code",
   "execution_count": 306,
   "id": "934cc548",
   "metadata": {},
   "outputs": [
    {
     "data": {
      "text/html": [
       "<div>\n",
       "<style scoped>\n",
       "    .dataframe tbody tr th:only-of-type {\n",
       "        vertical-align: middle;\n",
       "    }\n",
       "\n",
       "    .dataframe tbody tr th {\n",
       "        vertical-align: top;\n",
       "    }\n",
       "\n",
       "    .dataframe thead th {\n",
       "        text-align: right;\n",
       "    }\n",
       "</style>\n",
       "<table border=\"1\" class=\"dataframe\">\n",
       "  <thead>\n",
       "    <tr style=\"text-align: right;\">\n",
       "      <th></th>\n",
       "      <th>precision</th>\n",
       "      <th>recall</th>\n",
       "      <th>f1 score</th>\n",
       "      <th>auc score</th>\n",
       "      <th>log loss</th>\n",
       "    </tr>\n",
       "    <tr>\n",
       "      <th>Classifier</th>\n",
       "      <th></th>\n",
       "      <th></th>\n",
       "      <th></th>\n",
       "      <th></th>\n",
       "      <th></th>\n",
       "    </tr>\n",
       "  </thead>\n",
       "  <tbody>\n",
       "    <tr>\n",
       "      <th>Logistic regression</th>\n",
       "      <td>0.939015</td>\n",
       "      <td>0.963110</td>\n",
       "      <td>0.959312</td>\n",
       "      <td>0.944996</td>\n",
       "      <td>0.267585</td>\n",
       "    </tr>\n",
       "    <tr>\n",
       "      <th>Multinomial Naive Bayes</th>\n",
       "      <td>0.928728</td>\n",
       "      <td>0.967788</td>\n",
       "      <td>0.895736</td>\n",
       "      <td>0.826355</td>\n",
       "      <td>0.360352</td>\n",
       "    </tr>\n",
       "    <tr>\n",
       "      <th>SVM</th>\n",
       "      <td>0.945933</td>\n",
       "      <td>0.970038</td>\n",
       "      <td>0.942395</td>\n",
       "      <td>0.912709</td>\n",
       "      <td>NaN</td>\n",
       "    </tr>\n",
       "    <tr>\n",
       "      <th>SVM with bigrams</th>\n",
       "      <td>0.952497</td>\n",
       "      <td>0.975346</td>\n",
       "      <td>0.931632</td>\n",
       "      <td>0.890991</td>\n",
       "      <td>NaN</td>\n",
       "    </tr>\n",
       "    <tr>\n",
       "      <th>SVM modified huber</th>\n",
       "      <td>0.950429</td>\n",
       "      <td>0.971387</td>\n",
       "      <td>0.954385</td>\n",
       "      <td>0.933279</td>\n",
       "      <td>0.234706</td>\n",
       "    </tr>\n",
       "  </tbody>\n",
       "</table>\n",
       "</div>"
      ],
      "text/plain": [
       "                         precision    recall  f1 score  auc score  log loss\n",
       "Classifier                                                                 \n",
       "Logistic regression       0.939015  0.963110  0.959312   0.944996  0.267585\n",
       "Multinomial Naive Bayes   0.928728  0.967788  0.895736   0.826355  0.360352\n",
       "SVM                       0.945933  0.970038  0.942395   0.912709       NaN\n",
       "SVM with bigrams          0.952497  0.975346  0.931632   0.890991       NaN\n",
       "SVM modified huber        0.950429  0.971387  0.954385   0.933279  0.234706"
      ]
     },
     "execution_count": 306,
     "metadata": {},
     "output_type": "execute_result"
    }
   ],
   "source": [
    "accuracy_dataframe(model_dict)"
   ]
  },
  {
   "cell_type": "code",
   "execution_count": 352,
   "id": "6ca00c26",
   "metadata": {},
   "outputs": [],
   "source": [
    "import seaborn as sns\n",
    "from matplotlib.gridspec import GridSpec\n",
    "\n",
    "def plot_histogram_pred(model_dict):\n",
    "    fig = plt.figure(figsize=(10, 8))\n",
    "    gs = GridSpec(2, 2, figure=fig)\n",
    "    grid_positions = [(0, 0), (0,1), (1, 0)]\n",
    "    i=0\n",
    "    for name, val in model_dict.items():\n",
    "        if len(val[1].tolist()) == 0:\n",
    "            continue\n",
    "        else:\n",
    "            row, col = grid_positions[i]\n",
    "            ax = fig.add_subplot(gs[row, col])\n",
    "            i+=1\n",
    "            data = val[1][:, 0]\n",
    "            sns.histplot(data, ax=ax, bins=10, kde=False, color=\"teal\")\n",
    "            sns.set_style(\"whitegrid\")\n",
    "            sns.set_context(\"notebook\", font_scale=1.2)\n",
    "            plt.title(name, fontsize=16)\n",
    "            plt.xlabel('Predicted value', fontsize=14)\n",
    "            plt.ylabel('Count', fontsize=14)\n",
    "            plt.xticks(fontsize=12)\n",
    "            plt.yticks(fontsize=12)\n",
    "            plt.ylim(0, 12000)\n",
    "    plt.tight_layout()\n",
    "    plt.show()"
   ]
  },
  {
   "cell_type": "code",
   "execution_count": 353,
   "id": "ce3d75b3",
   "metadata": {},
   "outputs": [
    {
     "data": {
      "image/png": "[encoded data removed]",
      "text/plain": [
       "<Figure size 720x576 with 3 Axes>"
      ]
     },
     "metadata": {},
     "output_type": "display_data"
    }
   ],
   "source": [
    "plot_histogram_pred(model_dict)"
   ]
  }
 ],
 "metadata": {
  "kernelspec": {
   "display_name": "Python 3",
   "language": "python",
   "name": "python3"
  },
  "language_info": {
   "codemirror_mode": {
    "name": "ipython",
    "version": 3
   },
   "file_extension": ".py",
   "mimetype": "text/x-python",
   "name": "python",
   "nbconvert_exporter": "python",
   "pygments_lexer": "ipython3",
   "version": "3.8.8"
  }
 },
 "nbformat": 4,
 "nbformat_minor": 5
}
